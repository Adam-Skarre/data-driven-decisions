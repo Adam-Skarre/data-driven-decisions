{
 "cells": [
  {
   "cell_type": "code",
   "execution_count": 1,
   "id": "164931e6",
   "metadata": {},
   "outputs": [],
   "source": [
    "import numpy as np\n",
    "import matplotlib.pyplot as plt\n",
    "plt.style.use('fivethirtyeight')"
   ]
  },
  {
   "cell_type": "markdown",
   "id": "c53fc750",
   "metadata": {},
   "source": [
    "Consider a roulette game that has two possible winning spots: 1 and 2. Choosing 1 or 2 you have a 50% chance of winning the game. If I'm trying to figure out _how_ many times it will take for 1 or 2 to win, naively I might think one spin with 50% chance of winning + one spin at 50% chance of winning means I should win once every two spins. \n",
    "\n",
    "We can't add up random events this way though. In reality, with 2 spins we have a few different outcomes, \n",
    "\n",
    "|outcomes 1 first|outcome 2 first|\n",
    "|---|---|\n",
    "|11|21|\n",
    "|12|22|\n",
    "\n",
    "Two out of four of these outcomes are what I originally expected, that 1 and 2 will win once, but the other two outcomes are that either 1 never wins or 2 never wins. So there is a 50% chance either 1 or 2 will not win. We can summarize this result by averaging the probabilities that a number _does not appear_, \n",
    "\n",
    "$\\frac{\\frac{1}{2}[11] + \\frac{0}{2}[21] + \\frac{0}{2}[12] + \\frac{1}{2}[22]}{4~games} = 25\\%$\n",
    "\n",
    "What happens when we increase the number of outcomes in this game and the number of spins we get to play? For example, if we can choose between 1 and 4 and we get 4 spins, or choose between 1 and 100 and get 100 spins. Will the percent of numbers that do not appear in a game continue to increase or decrease?\n",
    "\n"
   ]
  },
  {
   "cell_type": "code",
   "execution_count": 91,
   "id": "48052d03",
   "metadata": {},
   "outputs": [],
   "source": [
    "from numpy.random import default_rng\n"
   ]
  },
  {
   "cell_type": "code",
   "execution_count": 92,
   "id": "634853f7",
   "metadata": {},
   "outputs": [],
   "source": [
    "rng = default_rng(42)\n",
    "\n",
    "# rng."
   ]
  },
  {
   "cell_type": "code",
   "execution_count": 93,
   "id": "e57c40d4",
   "metadata": {},
   "outputs": [
    {
     "data": {
      "text/plain": [
       "0.2539"
      ]
     },
     "execution_count": 93,
     "metadata": {},
     "output_type": "execute_result"
    }
   ],
   "source": [
    "N = 2\n",
    "fraction = np.zeros(10000)\n",
    "for i in range(10000):\n",
    "    results = rng.integers(1, N+1, size = N)\n",
    "    my1_e = 1- len(np.unique(results))/N\n",
    "    fraction[i] = my1_e\n",
    "np.mean(fraction)"
   ]
  },
  {
   "cell_type": "code",
   "execution_count": 94,
   "id": "bfebb1b8",
   "metadata": {},
   "outputs": [
    {
     "data": {
      "text/plain": [
       "2.718281828459045"
      ]
     },
     "execution_count": 94,
     "metadata": {},
     "output_type": "execute_result"
    }
   ],
   "source": [
    "np.exp(1)"
   ]
  },
  {
   "cell_type": "markdown",
   "id": "7592e73a",
   "metadata": {},
   "source": [
    "## Dropping keys and checking randomly\n",
    "\n",
    "[@UpandAtom](youtube_hyperlink) has a short video that details a counterintuitive probability problem. \n",
    "\n",
    "Consider a person that goes to open their door with a key, but can't remember which one opens the door. They select one of the $N$ keys on the keyring and then try to open the door. On this first try, the chance that they open the door is 1/N. \n",
    "\n",
    "If they drop their keys and randomly select another key, what is the probablity that they pick the right key in this scenario? Naively, I would say the chance is _still_ $1/N$. This naive prediction _does not_ take into account the information we know that the keys have been dropped once already. Factoring in this information to my prediction, it changes the probability that the correct key will be selected, its actually\n",
    "\n",
    "$P(key~is~correct) = \\frac{1}{N}\\cdot\\frac{1-N}{N}$\n",
    "\n",
    "The probability that they select the correct key on the second try is probablity that they select the key correctly on this second try multiplied by the probability that they selected the key _incorrectly_ on the first try. \n",
    "\n",
    "This seems wrong, how can the probabilty change in this seemingly random selection of keys?\n",
    "\n",
    "Let's try a Monte Carlo experiment with $\\times 2$ keys, \n",
    "\n",
    "We'll build 1000 virtual people that all try to get into their houses. Each person is given 2 keys, we'll label them `0` and `1`. If they select key `0`, they get in. If they select key `1`, they drop the keys and select a new one.\n",
    "\n",
    "\n",
    "_Note: because these are virtual people we can be a little mean and leave the keys indistinguishable, so its always a random choice of `0` or `1`._\n",
    "\n",
    "According to our theory above, \n",
    "\n",
    "|number of tries|number of people|percent success|\n",
    "|---|---|---|\n",
    "|1| 500 | 50\\%|\n",
    "|2| 250 | 25\\%|\n",
    "|3| 125| 12.5\\%|\n",
    "|4| 62.5|0.0625\\%|\n",
    "\n",
    "Our random group of 1000 virtual people locked out of the apartment will have 500 people that guess correctly on the first try and only 62-63 people that guess correctly on the 4th try. "
   ]
  },
  {
   "cell_type": "code",
   "execution_count": 107,
   "id": "03056a53",
   "metadata": {},
   "outputs": [
    {
     "data": {
      "text/plain": [
       "(array([  0., 496., 250., 122.,  60.,  36.,  18.,  12.,   2.,   3.]),\n",
       " array([ 0.,  1.,  2.,  3.,  4.,  5.,  6.,  7.,  8.,  9., 10.]),\n",
       " <BarContainer object of 10 artists>)"
      ]
     },
     "execution_count": 107,
     "metadata": {},
     "output_type": "execute_result"
    },
    {
     "data": {
      "image/png": "[encoded data removed]",
      "text/plain": [
       "<Figure size 432x288 with 1 Axes>"
      ]
     },
     "metadata": {},
     "output_type": "display_data"
    }
   ],
   "source": [
    "N = 1000\n",
    "cases = np.zeros(N)\n",
    "keys = np.arange(2)\n",
    "for ncase in range(N):\n",
    "    tries = 0\n",
    "    key = 10\n",
    "    while key != 0:\n",
    "        key = rng.integers(len(keys), size = 1)\n",
    "        tries += 1\n",
    "    cases[ncase] = tries\n",
    "plt.hist(cases, bins = np.arange(np.max(cases)))"
   ]
  },
  {
   "cell_type": "code",
   "execution_count": 113,
   "id": "56feda38",
   "metadata": {},
   "outputs": [
    {
     "name": "stdout",
     "output_type": "stream",
     "text": [
      "success on try 1: 496.0, 49.60%\n",
      "success on try 2: 250.0, 25.00%\n",
      "success on try 3: 122.0, 12.20%\n",
      "success on try 4: 60.0, 6.00%\n"
     ]
    }
   ],
   "source": [
    "try_01 = np.sum(cases == 1)/N\n",
    "try_02 = np.sum(cases == 2)/N\n",
    "try_03 = np.sum(cases == 3)/N\n",
    "try_04 = np.sum(cases == 4)/N\n",
    "\n",
    "print('success on try 1: {}, {:1.2f}%'.format(try_01*N, 100*try_01))\n",
    "\n",
    "print('success on try 2: {}, {:1.2f}%'.format(try_02*N, 100*try_02))\n",
    "\n",
    "print('success on try 3: {}, {:1.2f}%'.format(try_03*N, 100*try_03))\n",
    "\n",
    "print('success on try 4: {}, {:1.2f}%'.format(try_04*N, 100*try_04))\n"
   ]
  },
  {
   "cell_type": "markdown",
   "id": "aa1e60f3",
   "metadata": {},
   "source": [
    "Using a Monte Carlo approach, we built a discrete version of the dropping keys scenario. The results from Monte Carlo support the approach of using the probabilites of guessing correctly **and** the probabilities of previouse _incorrect_ guesses to find that $\\approx60~out~of~1000$ people will guess correctly on their 4th try. "
   ]
  },
  {
   "cell_type": "markdown",
   "id": "7a9f50e0",
   "metadata": {},
   "source": [
    "## Exercise: failure prediction\n",
    "\n",
    "In the dropping keys experiment, we ended the trials when the virtual person _succeeded_ in entering the room. What would this look like if an engineering process _failed_ when a certain device is used?\n",
    "\n",
    "Consider a manufacturing plant that produces nuts and bolts. They are the cheapest bolts than can be manufactured. The biggest cost savings is due to their removal of quality control efforts on bolts. \n",
    "\n",
    "Your company needs to use 10 bolts in every device you manufacture. If one bolt fails, the whole device fails. You're quality control team knows the bolts fail 1-out-of-10 times. When you test a device, if it fails the bolts are discarded and ten more used to assemble the device. \n",
    "\n",
    "Your manager is trying to understand why it seems like so many devices fail the first time they are tested. Explain the current failure rate to your manager with a Monte Carlo analysis using 10 bolts and 10% failure rate. \n",
    "\n"
   ]
  },
  {
   "cell_type": "code",
   "execution_count": 120,
   "id": "586ee031",
   "metadata": {},
   "outputs": [
    {
     "data": {
      "text/plain": [
       "(array([0.000e+00, 1.011e+03, 8.970e+02, 8.170e+02, 7.510e+02, 6.490e+02,\n",
       "        5.910e+02, 5.240e+02, 4.840e+02, 4.200e+02, 3.760e+02, 3.240e+02,\n",
       "        2.970e+02, 2.920e+02, 2.330e+02, 2.420e+02, 2.080e+02, 1.830e+02,\n",
       "        1.710e+02, 1.470e+02, 1.400e+02, 1.190e+02, 1.210e+02, 9.700e+01,\n",
       "        9.700e+01, 9.300e+01, 6.500e+01, 5.500e+01, 5.400e+01, 5.900e+01,\n",
       "        4.400e+01, 4.700e+01, 4.600e+01, 3.500e+01, 2.700e+01, 3.100e+01,\n",
       "        2.700e+01, 2.000e+01, 2.300e+01, 2.000e+01, 2.000e+01, 1.700e+01,\n",
       "        1.400e+01, 1.400e+01, 7.000e+00, 9.000e+00, 1.400e+01, 3.000e+00,\n",
       "        9.000e+00, 7.000e+00, 8.000e+00, 3.000e+00, 4.000e+00, 4.000e+00,\n",
       "        3.000e+00, 6.000e+00, 0.000e+00, 1.000e+00, 4.000e+00, 0.000e+00,\n",
       "        1.000e+00, 0.000e+00, 0.000e+00, 1.000e+00, 1.000e+00, 1.000e+00,\n",
       "        1.000e+00, 1.000e+00, 0.000e+00, 0.000e+00, 0.000e+00, 1.000e+00,\n",
       "        3.000e+00, 1.000e+00, 0.000e+00, 1.000e+00, 0.000e+00, 2.000e+00,\n",
       "        0.000e+00, 0.000e+00, 0.000e+00, 0.000e+00, 0.000e+00, 1.000e+00,\n",
       "        0.000e+00, 0.000e+00, 0.000e+00, 0.000e+00, 0.000e+00, 0.000e+00,\n",
       "        0.000e+00, 0.000e+00, 0.000e+00, 0.000e+00, 0.000e+00, 0.000e+00,\n",
       "        0.000e+00, 0.000e+00, 0.000e+00, 0.000e+00, 0.000e+00, 0.000e+00,\n",
       "        0.000e+00, 0.000e+00, 0.000e+00]),\n",
       " array([  0.,   1.,   2.,   3.,   4.,   5.,   6.,   7.,   8.,   9.,  10.,\n",
       "         11.,  12.,  13.,  14.,  15.,  16.,  17.,  18.,  19.,  20.,  21.,\n",
       "         22.,  23.,  24.,  25.,  26.,  27.,  28.,  29.,  30.,  31.,  32.,\n",
       "         33.,  34.,  35.,  36.,  37.,  38.,  39.,  40.,  41.,  42.,  43.,\n",
       "         44.,  45.,  46.,  47.,  48.,  49.,  50.,  51.,  52.,  53.,  54.,\n",
       "         55.,  56.,  57.,  58.,  59.,  60.,  61.,  62.,  63.,  64.,  65.,\n",
       "         66.,  67.,  68.,  69.,  70.,  71.,  72.,  73.,  74.,  75.,  76.,\n",
       "         77.,  78.,  79.,  80.,  81.,  82.,  83.,  84.,  85.,  86.,  87.,\n",
       "         88.,  89.,  90.,  91.,  92.,  93.,  94.,  95.,  96.,  97.,  98.,\n",
       "         99., 100., 101., 102., 103., 104., 105.]),\n",
       " <BarContainer object of 105 artists>)"
      ]
     },
     "execution_count": 120,
     "metadata": {},
     "output_type": "execute_result"
    },
    {
     "data": {
      "image/png": "[encoded data removed]",
      "text/plain": [
       "<Figure size 432x288 with 1 Axes>"
      ]
     },
     "metadata": {},
     "output_type": "display_data"
    }
   ],
   "source": [
    "N = 10000\n",
    "cases = np.zeros(N)\n",
    "keys = np.arange(10)\n",
    "for ncase in range(N):\n",
    "    tries = 0\n",
    "    key = 10\n",
    "    while key != 0:\n",
    "        key = rng.integers(len(keys), size = 1)\n",
    "        tries += 1\n",
    "    cases[ncase] = tries\n",
    "plt.hist(cases, bins = np.arange(np.max(cases)))"
   ]
  },
  {
   "cell_type": "code",
   "execution_count": 125,
   "id": "247ac175",
   "metadata": {},
   "outputs": [
    {
     "name": "stdout",
     "output_type": "stream",
     "text": [
      "failure on try 1: 1011.0, 10.11%\n",
      "failure on try 2: 897.0, 8.97%\n",
      "failure on try 3: 817.0, 8.17%\n",
      "failure on try 4: 751.0, 7.51%\n"
     ]
    }
   ],
   "source": [
    "try_01 = np.sum(cases == 1)/N\n",
    "try_02 = np.sum(cases == 2)/N\n",
    "try_03 = np.sum(cases == 3)/N\n",
    "try_04 = np.sum(cases == 4)/N\n",
    "\n",
    "print('failure on try 1: {}, {:1.2f}%'.format(try_01*N, 100*try_01))\n",
    "\n",
    "print('failure on try 2: {}, {:1.2f}%'.format(try_02*N, 100*try_02))\n",
    "\n",
    "print('failure on try 3: {}, {:1.2f}%'.format(try_03*N, 100*try_03))\n",
    "\n",
    "print('failure on try 4: {}, {:1.2f}%'.format(try_04*N, 100*try_04))\n"
   ]
  },
  {
   "cell_type": "code",
   "execution_count": null,
   "id": "731b8dc7",
   "metadata": {},
   "outputs": [],
   "source": []
  }
 ],
 "metadata": {
  "kernelspec": {
   "display_name": "Python 3",
   "language": "python",
   "name": "python3"
  },
  "language_info": {
   "codemirror_mode": {
    "name": "ipython",
    "version": 3
   },
   "file_extension": ".py",
   "mimetype": "text/x-python",
   "name": "python",
   "nbconvert_exporter": "python",
   "pygments_lexer": "ipython3",
   "version": "3.9.0"
  }
 },
 "nbformat": 4,
 "nbformat_minor": 5
}
