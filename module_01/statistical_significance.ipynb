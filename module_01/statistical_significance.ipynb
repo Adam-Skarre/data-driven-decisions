{
 "cells": [
  {
   "cell_type": "code",
   "execution_count": 1,
   "id": "f1b7753b",
   "metadata": {},
   "outputs": [],
   "source": [
    "import numpy as np\n",
    "import matplotlib.pyplot as plt\n",
    "from numpy.random import default_rng\n",
    "plt.style.use('fivethirtyeight')"
   ]
  },
  {
   "cell_type": "markdown",
   "id": "1ff6493e",
   "metadata": {},
   "source": [
    "# Statistical Significance in Data"
   ]
  },
  {
   "cell_type": "markdown",
   "id": "358be490",
   "metadata": {},
   "source": [
    "How many measurements do you need to _prove_ two measurements are different?\n",
    "\n",
    "This is a problem of constant debate with many different approaches, \n",
    "- [Student t-test](https://en.wikipedia.org/wiki/Student%27s_t-test)\n",
    "- [Analysis of Variance (ANOVA)](https://en.wikipedia.org/wiki/Analysis_of_variance)\n",
    "- [Analysis of Covariance (ANCOVA)](https://en.wikipedia.org/wiki/Analysis_of_covariance)\n",
    "- [Permutation test](https://en.wikipedia.org/wiki/Permutation_test)\n",
    "- [Bootstrapping test](https://en.wikipedia.org/wiki/Bootstrapping_(statistics))\n",
    "- [Wilcoxon test](https://en.wikipedia.org/wiki/Wilcoxon_signed-rank_test)\n",
    "\n",
    "In all of these approaches, scientists and engineers create a quantitative test to accept or reject the hypothesis that two set of data are _not_ significantly different. This concept was _very_ strange to me at first. How can two different measurements be considered the same? It wasn't until I started practicing, building, and applying engineering concepts that this question started to make sense. \n",
    "\n",
    "## Generate some data we _know_ is different\n",
    "\n",
    "Monte Carlo experiments are a great way to start understanding this difficult question, lets build x2 100-value data sets:\n",
    "- normal distribution at $0 \\pm 1$\n",
    "- normal distribution at $1 \\pm 1$"
   ]
  },
  {
   "cell_type": "code",
   "execution_count": 2,
   "id": "e03b9831",
   "metadata": {},
   "outputs": [
    {
     "data": {
      "text/plain": [
       "(array([ 0.,  0.,  0.,  1.,  2., 13., 15., 23., 21.,  9.,  7.,  7.,  1.,\n",
       "         1.,  0.,  0.]),\n",
       " array([-3. , -2.5, -2. , -1.5, -1. , -0.5,  0. ,  0.5,  1. ,  1.5,  2. ,\n",
       "         2.5,  3. ,  3.5,  4. ,  4.5,  5. ]),\n",
       " [<matplotlib.patches.Polygon at 0x7f353d67eee0>])"
      ]
     },
     "execution_count": 2,
     "metadata": {},
     "output_type": "execute_result"
    },
    {
     "data": {
      "image/png": "[encoded data removed]",
      "text/plain": [
       "<Figure size 432x288 with 1 Axes>"
      ]
     },
     "metadata": {},
     "output_type": "display_data"
    }
   ],
   "source": [
    "rng = default_rng(42)\n",
    "\n",
    "set_01 = rng.normal(loc = 0, scale = 1, size = 100)\n",
    "set_02 = rng.normal(loc = 1, scale = 1, size = 100)\n",
    "\n",
    "plt.hist(set_01,\n",
    "        histtype='step',\n",
    "        linewidth = 4, \n",
    "        bins = np.linspace(-3,5, 17))\n",
    "plt.hist(set_02, \n",
    "        histtype = 'step',\n",
    "        linewidth = 4,\n",
    "        bins =np.linspace(-3, 5, 17))"
   ]
  },
  {
   "cell_type": "code",
   "execution_count": 3,
   "id": "3f45c7c6",
   "metadata": {},
   "outputs": [
    {
     "name": "stdout",
     "output_type": "stream",
     "text": [
      "set01 = -0.05 +/- 0.77\n",
      "set02 = 0.99 +/- 0.97\n"
     ]
    }
   ],
   "source": [
    "print('set01 = {:1.2f} +/- {:1.2f}'.format(np.mean(set_01), np.std(set_01)))\n",
    "print('set02 = {:1.2f} +/- {:1.2f}'.format(np.mean(set_02), np.std(set_02)))"
   ]
  },
  {
   "cell_type": "markdown",
   "id": "15c7255d",
   "metadata": {},
   "source": [
    "# Are these measurements different?\n",
    "\n",
    "The two histograms are different, but many of the values lie directly on top of each other. for example, both sets of data have ~20-23 measurements from 1/2-1. If we only consider the reported means, -0.05 and 0.99, there is a significant difference between the two results, but how accurate is this value of mean?\n",
    "\n",
    "Lets calculate more data sets and see how much the much the mean can change. "
   ]
  },
  {
   "cell_type": "code",
   "execution_count": 4,
   "id": "f501c297",
   "metadata": {},
   "outputs": [
    {
     "data": {
      "text/plain": [
       "Text(0.5, 1.0, 'range of means using x50 sets of 100 data points\\nlocated at 0 and 1')"
      ]
     },
     "execution_count": 4,
     "metadata": {},
     "output_type": "execute_result"
    },
    {
     "data": {
      "image/png": "[encoded data removed]",
      "text/plain": [
       "<Figure size 432x288 with 1 Axes>"
      ]
     },
     "metadata": {},
     "output_type": "display_data"
    }
   ],
   "source": [
    "set_01 = rng.normal(loc = 0, scale = 1, size = (50,100))\n",
    "set_02 = rng.normal(loc = 1, scale = 1, size = (50, 100))\n",
    "\n",
    "mean_01 = np.mean(set_01, axis = 1)\n",
    "mean_02 = np.mean(set_02, axis = 1)\n",
    "\n",
    "plt.boxplot([mean_01, mean_02])\n",
    "plt.title('range of means using x50 sets of 100 data points\\nlocated at 0 and 1')"
   ]
  },
  {
   "cell_type": "code",
   "execution_count": 5,
   "id": "a065bbd5",
   "metadata": {},
   "outputs": [
    {
     "data": {
      "text/plain": [
       "(array([ 0.,  0.,  0.,  0.,  0.,  0.,  0.,  0.,  0.,  0.,  0.,  0.,  0.,\n",
       "         0.,  0.,  0.,  0.,  0.,  0.,  2.,  6., 12., 13.,  8.,  4.,  3.,\n",
       "         2.,  0.,  0.,  0.]),\n",
       " array([-0.5       , -0.43333333, -0.36666667, -0.3       , -0.23333333,\n",
       "        -0.16666667, -0.1       , -0.03333333,  0.03333333,  0.1       ,\n",
       "         0.16666667,  0.23333333,  0.3       ,  0.36666667,  0.43333333,\n",
       "         0.5       ,  0.56666667,  0.63333333,  0.7       ,  0.76666667,\n",
       "         0.83333333,  0.9       ,  0.96666667,  1.03333333,  1.1       ,\n",
       "         1.16666667,  1.23333333,  1.3       ,  1.36666667,  1.43333333,\n",
       "         1.5       ]),\n",
       " [<matplotlib.patches.Polygon at 0x7f353ccf1220>])"
      ]
     },
     "execution_count": 5,
     "metadata": {},
     "output_type": "execute_result"
    },
    {
     "data": {
      "image/png": "[encoded data removed]",
      "text/plain": [
       "<Figure size 432x288 with 1 Axes>"
      ]
     },
     "metadata": {},
     "output_type": "display_data"
    }
   ],
   "source": [
    "plt.hist(mean_01,\n",
    "        histtype='step',\n",
    "        linewidth = 4, \n",
    "        bins = np.linspace(-0.5,1.5, 31))\n",
    "plt.hist(mean_02, \n",
    "        histtype = 'step',\n",
    "        linewidth = 4,\n",
    "        bins =np.linspace(-0.5, 1.5, 31))"
   ]
  },
  {
   "cell_type": "markdown",
   "id": "560d9703",
   "metadata": {},
   "source": [
    "## T-test and the _p-value_ for reporting significance\n",
    "\n",
    "This process is the same idea that William Gossett proposed in the formulation of the Student t-test. Rather than trying to prove that the two data sets are different, he built a test to see if the 2 means of the data sets were different _assuming the mean is calculated from randomly sampled normally distributed data sets_.  \n",
    "\n",
    "The [T-test](https://docs.scipy.org/doc/scipy/reference/generated/scipy.stats.ttest_ind.html) is now a standard way for scientists and engineers to discuss \"how likely it is that any observed difference between groups is due to chance. Being a probability, P can take any value between 0 and 1\" [What does the P-value mean? Dahiru and Dip 2008](https://www.ncbi.nlm.nih.gov/pmc/articles/PMC4111019/). Let's look at the p-value for 5 of the 50 data sets we made"
   ]
  },
  {
   "cell_type": "code",
   "execution_count": 6,
   "id": "280cfb49",
   "metadata": {},
   "outputs": [],
   "source": [
    "from scipy.stats import ttest_ind"
   ]
  },
  {
   "cell_type": "code",
   "execution_count": 7,
   "id": "cf84e2eb",
   "metadata": {},
   "outputs": [
    {
     "name": "stdout",
     "output_type": "stream",
     "text": [
      "Ttest_indResult(statistic=-7.718457468309859, pvalue=5.681903155265593e-13)\n",
      "Ttest_indResult(statistic=-7.992858451106185, pvalue=1.0707698163938262e-13)\n",
      "Ttest_indResult(statistic=-7.191893442853354, pvalue=1.2834966766972937e-11)\n",
      "Ttest_indResult(statistic=-8.008847401439036, pvalue=9.706920147642765e-14)\n",
      "Ttest_indResult(statistic=-4.612392634969165, pvalue=7.1356528271453265e-06)\n"
     ]
    }
   ],
   "source": [
    "for i in range(0, 50, 10):\n",
    "    print(ttest_ind(set_01[i, :], set_02[i,:]))"
   ]
  },
  {
   "cell_type": "markdown",
   "id": "eced881a",
   "metadata": {},
   "source": [
    "In all 5 data sets, the p-value is much less than 1%. The largest is 7e-4%. With 100 data points, and a standard deviation of equal to the difference between the means, we can be almost certain that the difference in the means is _not_ by chance. Thus we reject this null hypothesis. "
   ]
  },
  {
   "cell_type": "markdown",
   "id": "b3625fd2",
   "metadata": {},
   "source": [
    "## When is the p-value < 0.05?\n",
    "\n",
    "Now, lets decrease the number of times we ask for values from these normal distributions. We will only create 5 measurements from the normal distributions, but do the same experiment 50 times again. "
   ]
  },
  {
   "cell_type": "code",
   "execution_count": 9,
   "id": "d6652c80",
   "metadata": {},
   "outputs": [
    {
     "data": {
      "text/plain": [
       "Text(0.5, 1.0, 'range of means using x50 sets of 5 data points\\nlocated at 0 and 1')"
      ]
     },
     "execution_count": 9,
     "metadata": {},
     "output_type": "execute_result"
    },
    {
     "data": {
      "image/png": "[encoded data removed]",
      "text/plain": [
       "<Figure size 432x288 with 1 Axes>"
      ]
     },
     "metadata": {},
     "output_type": "display_data"
    }
   ],
   "source": [
    "set_01 = rng.normal(loc = 0, scale = 1, size = (50,5))\n",
    "set_02 = rng.normal(loc = 1, scale = 1, size = (50,5))\n",
    "\n",
    "mean_01 = np.mean(set_01, axis = 1)\n",
    "mean_02 = np.mean(set_02, axis = 1)\n",
    "\n",
    "plt.boxplot([mean_01, mean_02])\n",
    "plt.title('range of means using x50 sets of 5 data points\\nlocated at 0 and 1')"
   ]
  },
  {
   "cell_type": "markdown",
   "id": "2fed9d02",
   "metadata": {},
   "source": [
    "The _population_ means are still where we expect them, at 0 and 1, but each set has a _sample_ mean that varies from -1 to 0.9 and 0 to 2 for the $\\times 5$ data points, at 0 and 1 respectively. Considering the T-test, the probability that these means are different by chance is much higher. \n",
    "\n"
   ]
  },
  {
   "cell_type": "code",
   "execution_count": 10,
   "id": "7130bf3f",
   "metadata": {},
   "outputs": [
    {
     "name": "stdout",
     "output_type": "stream",
     "text": [
      "Ttest_indResult(statistic=-2.5538426887535235, pvalue=0.03397090031272734)\n",
      "Ttest_indResult(statistic=-1.2336932809530161, pvalue=0.25233097441867186)\n",
      "Ttest_indResult(statistic=-1.7234031645122094, pvalue=0.12310838248726863)\n",
      "Ttest_indResult(statistic=-0.6543142468045674, pvalue=0.5312653625084551)\n",
      "Ttest_indResult(statistic=-1.0451869664276245, pvalue=0.3264867551084358)\n"
     ]
    }
   ],
   "source": [
    "for i in range(0, 50, 10):\n",
    "    print(ttest_ind(set_01[i, :], set_02[i,:]))"
   ]
  },
  {
   "cell_type": "markdown",
   "id": "66e91fc7",
   "metadata": {},
   "source": [
    "In the case of using 5 randomly sampled values from the normal distributions, the chance that the means are equal is as high as 53% and as low as 3%. This means we cannot claim the results are _statistically significant_ even though we _know_ that `set_01` has a mean of 0 and `set_02` has a mean of 1. "
   ]
  }
 ],
 "metadata": {
  "kernelspec": {
   "display_name": "Python 3",
   "language": "python",
   "name": "python3"
  },
  "language_info": {
   "codemirror_mode": {
    "name": "ipython",
    "version": 3
   },
   "file_extension": ".py",
   "mimetype": "text/x-python",
   "name": "python",
   "nbconvert_exporter": "python",
   "pygments_lexer": "ipython3",
   "version": "3.9.0"
  }
 },
 "nbformat": 4,
 "nbformat_minor": 5
}
