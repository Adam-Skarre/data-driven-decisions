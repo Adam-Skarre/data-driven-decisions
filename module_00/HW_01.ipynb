{
 "cells": [
  {
   "cell_type": "code",
   "execution_count": 1,
   "id": "344013d1",
   "metadata": {},
   "outputs": [
    {
     "name": "stderr",
     "output_type": "stream",
     "text": [
      "[nltk_data] Downloading package punkt to /home/ryan/nltk_data...\n",
      "[nltk_data]   Package punkt is already up-to-date!\n"
     ]
    }
   ],
   "source": [
    "import numpy as np\n",
    "import matplotlib.pyplot as plt\n",
    "plt.style.use('fivethirtyeight')\n",
    "import pandas as pd\n",
    "import tf_idf"
   ]
  },
  {
   "cell_type": "markdown",
   "id": "d446d040",
   "metadata": {},
   "source": [
    "# HW_01 - Generative AI writing analysis and Monte Carlo research\n",
    "\n",
    "In this assignment, you will generate 500 words using a generative AI prompt and prompt engineering. Then, edit the document to use [active]() phrasing and add your own ideas to the document. \n",
    "\n",
    "**Scenario:** Your goal is to create a short technical report to convince your manager that you should use [Monte Carlo](https://en.wikipedia.org/wiki/Monte_Carlo_method) models in your engineering work. \n",
    "\n",
    "choose your role:\n",
    "- [ ] lead engineer\n",
    "- [ ]  junior engineer\n",
    "- [ ] managing engineer\n",
    "\n",
    "choose your company product:\n",
    "- [ ] bicycles\n",
    "- [ ] airplane engines\n",
    "- [ ] toothbrushes\n",
    "- [ ] corkscrews\n",
    "\n",
    "**Goal:** Justify the use of Monte Carlo methods in your role to design your product. This could include, \n",
    "\n",
    "- quantifying uncertainty in design\n",
    "- modeling process times \n",
    "- Mechanical strength of design\n",
    "- Fatigue limits of design\n",
    "- changes in heat and mass transfer of devices\n",
    "- account for variables outside the engineering scope of the design"
   ]
  },
  {
   "cell_type": "markdown",
   "id": "87705f35",
   "metadata": {},
   "source": [
    "## Prompt Input and Output\n",
    "\n",
    "-> _copy-paste your prompts and outputs here_"
   ]
  },
  {
   "cell_type": "markdown",
   "id": "670e5378",
   "metadata": {},
   "source": [
    "## Revised document\n",
    "\n",
    "-> _copy-paste the document here, then edit the output to remove passive phrasing and add specific ideas from your own research or experience (try quantifying any phrases such as 'many', 'fewer', 'more important', etc._"
   ]
  },
  {
   "cell_type": "markdown",
   "id": "5ffef0d6",
   "metadata": {},
   "source": [
    "## Document analysis\n",
    "\n",
    "- Make a list of all the improvements and changes you made to document\n",
    "- use the `tf_idf.cosineSimilarity` function to compare the AI version to your own\n",
    "\n",
    "Write a report on your intellectual property  in the 'revised document'. \n",
    "- How much can you claim as yours?\n",
    "- How many ideas came from AI?\n",
    "- How many ideas came from you?\n",
    "- Is this a _new_ document?\n",
    "- If this work was made by you and another person-not AI-would you need to credit this person as a coauthor?\n",
    "- What else can you discuss about this comparison and this process?"
   ]
  },
  {
   "cell_type": "code",
   "execution_count": null,
   "id": "b94c5d6a",
   "metadata": {},
   "outputs": [],
   "source": []
  }
 ],
 "metadata": {
  "kernelspec": {
   "display_name": "Python 3",
   "language": "python",
   "name": "python3"
  },
  "language_info": {
   "codemirror_mode": {
    "name": "ipython",
    "version": 3
   },
   "file_extension": ".py",
   "mimetype": "text/x-python",
   "name": "python",
   "nbconvert_exporter": "python",
   "pygments_lexer": "ipython3",
   "version": "3.9.0"
  }
 },
 "nbformat": 4,
 "nbformat_minor": 5
}
