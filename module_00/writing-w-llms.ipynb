{
 "cells": [
  {
   "cell_type": "markdown",
   "id": "8081bd98",
   "metadata": {},
   "source": [
    "# Technical writing and Generative AI\n",
    "\n",
    "Writing has always been a difficult task [xkcd-What-if 76](https://what-if.xkcd.com/76/). The limit to prodcucing new words on a page, report, email, or other document is often based upon how quickly our brains can translate a story or an idea into words. If we were just transcribing someone else's words, it _should_ be possible to write up to 70 words per minute. In reality, even the most successful authors with years of experience generate 0.05 words per minute, _over their entire lifetimes_. \n",
    "\n",
    "![XKCD comic showing someone transcribing To Kill a Mockingbird twenty times](https://what-if.xkcd.com/imgs/a/76/books_tkamps.png)\n",
    "\n"
   ]
  },
  {
   "cell_type": "markdown",
   "id": "26cafad2",
   "metadata": {},
   "source": [
    "Generating ideas and stories has become easier with tools such as \n",
    "- [ChatGPT](https://chatgpt.com/)\n",
    "- [Copy.ai](http://copy.ai/)\n",
    "- [Jasper](https://www.jasper.ai/)\n",
    "- [Claude](https://claude.ai/)\n",
    "- [ollama](https://ollama.com/)\n",
    "- and tons of others\n",
    "\n",
    "These tools do a great job at _synthesizing_ existing written documents, but they are not _creating_ any new content. The tools work by generating the probability that a word will follow a given set of words, based upon the pretrained data set using a _transformer_ [But what is a GPT? Visual intro to transformers | Chapter 5, Deep Learning](https://youtu.be/wjZofJX0v4M?si=hkP1Fe1dlLj3UU3k). Th"
   ]
  },
  {
   "cell_type": "code",
   "execution_count": 1,
   "id": "8e2fa108",
   "metadata": {},
   "outputs": [],
   "source": [
    "import numpy as np\n",
    "import matplotlib.pyplot as plt\n",
    "plt.style.use('fivethirtyeight')"
   ]
  },
  {
   "cell_type": "code",
   "execution_count": null,
   "id": "f142fae3",
   "metadata": {},
   "outputs": [],
   "source": []
  }
 ],
 "metadata": {
  "kernelspec": {
   "display_name": "Python 3",
   "language": "python",
   "name": "python3"
  },
  "language_info": {
   "codemirror_mode": {
    "name": "ipython",
    "version": 3
   },
   "file_extension": ".py",
   "mimetype": "text/x-python",
   "name": "python",
   "nbconvert_exporter": "python",
   "pygments_lexer": "ipython3",
   "version": "3.9.0"
  }
 },
 "nbformat": 4,
 "nbformat_minor": 5
}
