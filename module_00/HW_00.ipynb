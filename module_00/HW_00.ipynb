{
 "cells": [
  {
   "cell_type": "code",
   "execution_count": 1,
   "id": "6840e790",
   "metadata": {},
   "outputs": [],
   "source": [
    "import numpy as np\n",
    "import matplotlib.pyplot as plt\n",
    "plt.style.use('fivethirtyeight')\n",
    "import pandas as pd"
   ]
  },
  {
   "cell_type": "markdown",
   "id": "2148a32a",
   "metadata": {},
   "source": [
    "# HW_00 - Generative AI writing analysis\n",
    "\n",
    "In this assignment, you will generate instructions on brushing your teeth. You can use [ChatGPT](https://chatgpt.com/)\n",
    "\n",
    "Some metrics to add to the generated instructions:\n",
    "\n",
    "- number of strokes per minute\n",
    "- total brushing time\n",
    "- time spent per tooth \n",
    "- number of teeth or total area to brush on teeth\n",
    "- deflection of brush bristles for proper cleaning\n",
    "- what else can you think of?"
   ]
  },
  {
   "cell_type": "markdown",
   "id": "c3825564",
   "metadata": {},
   "source": [
    "## Prompt Input and Output\n",
    "**ME**\n",
    "\n",
    "I need you to act as a father of two boys 5 and 8 years old. You are going to give them five steps to brush teeth. Make sure the total brushing time is 2 minutes\n",
    "\n",
    "**ChatGPT**\n",
    "\n",
    "Absolutely, let's simplify it into five steps to make sure we hit that 2-minute mark:\n",
    "\n",
    "1. Wet your toothbrush and put a pea-sized amount of toothpaste on it.\n",
    "\n",
    "2. Brush the front teeth (top and bottom) in small circles for 30 seconds.\n",
    "\n",
    "3. Brush the back teeth (top and bottom) in small circles for another 30 seconds.\n",
    "\n",
    "4. Brush your tongue and the roof of your mouth for 15 seconds each. \n",
    "\n",
    "5. Finally, rinse your mouth and toothbrush. \n",
    "\n",
    "And there you have it! Five easy steps to keep those smiles bright and healthy. Let's make sure we do this both in the morning and before bed, okay?"
   ]
  },
  {
   "cell_type": "markdown",
   "id": "64f3d3ea",
   "metadata": {},
   "source": [
    "## Revised document\n",
    "\n",
    "1. Wet your toothbrush and put a pea-sized amount of toothpaste on the bristles of the toothbrush. Toothpaste costs \\$5 per container. Make sure to use less than 5 cents per brushing. \n",
    "\n",
    "2. Brush the upper left, upper right, and upper front teeth inner and outer surfaces for 20 seconds each. Make sure the brush is never more than half-way smooshed against teeth. \n",
    "\n",
    "3. Brush the lower left, lower right, and lower front teeth inner and outer surfaces for 20 seconds each. Make sure the brush is never more than half-way smooshed against teeth. \n",
    "\n",
    "4. Brush your tongue and the roof of your mouth for 10 seconds each. \n",
    "\n",
    "5. Rinse your mouth. Rinse the toothbrush with water three times. "
   ]
  },
  {
   "cell_type": "markdown",
   "id": "ad473b69",
   "metadata": {},
   "source": [
    "_run the cell below to get your `tf_idf` functions ready to run_"
   ]
  },
  {
   "cell_type": "code",
   "execution_count": 2,
   "id": "07dd45b3",
   "metadata": {},
   "outputs": [
    {
     "name": "stdout",
     "output_type": "stream",
     "text": [
      "Requirement already satisfied: tf-idf-cosimm==0.0.2 in /opt/conda/lib/python3.9/site-packages (0.0.2)\n",
      "Requirement already satisfied: numpy in /opt/conda/lib/python3.9/site-packages (from tf-idf-cosimm==0.0.2) (1.20.3)\n",
      "Requirement already satisfied: scikit-learn in /opt/conda/lib/python3.9/site-packages (from tf-idf-cosimm==0.0.2) (0.24.2)\n",
      "Requirement already satisfied: pandas in /opt/conda/lib/python3.9/site-packages (from tf-idf-cosimm==0.0.2) (1.3.2)\n",
      "Requirement already satisfied: nltk in /opt/conda/lib/python3.9/site-packages (from tf-idf-cosimm==0.0.2) (3.8.1)\n",
      "Requirement already satisfied: joblib in /opt/conda/lib/python3.9/site-packages (from nltk->tf-idf-cosimm==0.0.2) (1.0.1)\n",
      "Requirement already satisfied: regex>=2021.8.3 in /opt/conda/lib/python3.9/site-packages (from nltk->tf-idf-cosimm==0.0.2) (2024.5.15)\n",
      "Requirement already satisfied: tqdm in /opt/conda/lib/python3.9/site-packages (from nltk->tf-idf-cosimm==0.0.2) (4.62.2)\n",
      "Requirement already satisfied: click in /opt/conda/lib/python3.9/site-packages (from nltk->tf-idf-cosimm==0.0.2) (8.0.1)\n",
      "Requirement already satisfied: python-dateutil>=2.7.3 in /opt/conda/lib/python3.9/site-packages (from pandas->tf-idf-cosimm==0.0.2) (2.8.2)\n",
      "Requirement already satisfied: pytz>=2017.3 in /opt/conda/lib/python3.9/site-packages (from pandas->tf-idf-cosimm==0.0.2) (2021.1)\n",
      "Requirement already satisfied: six>=1.5 in /opt/conda/lib/python3.9/site-packages (from python-dateutil>=2.7.3->pandas->tf-idf-cosimm==0.0.2) (1.16.0)\n",
      "Requirement already satisfied: threadpoolctl>=2.0.0 in /opt/conda/lib/python3.9/site-packages (from scikit-learn->tf-idf-cosimm==0.0.2) (2.2.0)\n",
      "Requirement already satisfied: scipy>=0.19.1 in /opt/conda/lib/python3.9/site-packages (from scikit-learn->tf-idf-cosimm==0.0.2) (1.7.1)\n"
     ]
    }
   ],
   "source": [
    "! pip install tf-idf-cosimm==0.0.2"
   ]
  },
  {
   "cell_type": "code",
   "execution_count": 3,
   "id": "a87cd6c7-5db8-43fc-a63b-c3d9fcb4a531",
   "metadata": {},
   "outputs": [
    {
     "name": "stderr",
     "output_type": "stream",
     "text": [
      "[nltk_data] Downloading package punkt to /home/jovyan/nltk_data...\n",
      "[nltk_data]   Package punkt is already up-to-date!\n"
     ]
    }
   ],
   "source": [
    "import tf_idf.core as tf_idf"
   ]
  },
  {
   "cell_type": "code",
   "execution_count": 12,
   "id": "a12beb9f-aee7-4e7a-962a-0c5bf22f32b3",
   "metadata": {},
   "outputs": [],
   "source": [
    "AI = '''Wet your toothbrush and put a pea-sized amount of toothpaste on it.\n",
    "\n",
    "Brush the front teeth (top and bottom) in small circles for 30 seconds.\n",
    "\n",
    "Brush the back teeth (top and bottom) in small circles for another 30 seconds.\n",
    "\n",
    "Brush your tongue and the roof of your mouth for 15 seconds each.\n",
    "\n",
    "Finally, rinse your mouth and toothbrush.'''\n",
    "compare = tf_idf.preprocess_text(AI)"
   ]
  },
  {
   "cell_type": "code",
   "execution_count": 13,
   "id": "bf6f7dc1-3da0-4251-b5a3-a12121939d3b",
   "metadata": {},
   "outputs": [
    {
     "data": {
      "text/html": [
       "<div>\n",
       "<style scoped>\n",
       "    .dataframe tbody tr th:only-of-type {\n",
       "        vertical-align: middle;\n",
       "    }\n",
       "\n",
       "    .dataframe tbody tr th {\n",
       "        vertical-align: top;\n",
       "    }\n",
       "\n",
       "    .dataframe thead th {\n",
       "        text-align: right;\n",
       "    }\n",
       "</style>\n",
       "<table border=\"1\" class=\"dataframe\">\n",
       "  <thead>\n",
       "    <tr style=\"text-align: right;\">\n",
       "      <th></th>\n",
       "      <th>DOCUMENT</th>\n",
       "      <th>LOWERCASE</th>\n",
       "      <th>CLEANING</th>\n",
       "      <th>TOKENIZATION</th>\n",
       "      <th>STOP-WORDS</th>\n",
       "      <th>STEMMING</th>\n",
       "    </tr>\n",
       "  </thead>\n",
       "  <tbody>\n",
       "    <tr>\n",
       "      <th>0</th>\n",
       "      <td>Wet your toothbrush and put a pea-sized amount of toothpaste on it.\\n\\nBrush the front teeth (top and bottom) in small circles for 30 seconds.\\n\\nBrush the back teeth (top and bottom) in small circles for another 30 seconds.\\n\\nBrush your tongue and the roof of your mouth for 15 seconds each.\\n\\nFinally, rinse your mouth and toothbrush.</td>\n",
       "      <td>wet your toothbrush and put a pea-sized amount of toothpaste on it.\\n\\nbrush the front teeth (top and bottom) in small circles for 30 seconds.\\n\\nbrush the back teeth (top and bottom) in small circles for another 30 seconds.\\n\\nbrush your tongue and the roof of your mouth for 15 seconds each.\\n\\nfinally, rinse your mouth and toothbrush.</td>\n",
       "      <td>wet your toothbrush and put a peasized amount of toothpaste on it\\n\\nbrush the front teeth top and bottom in small circles for 30 seconds\\n\\nbrush the back teeth top and bottom in small circles for another 30 seconds\\n\\nbrush your tongue and the roof of your mouth for 15 seconds each\\n\\nfinally rinse your mouth and toothbrush</td>\n",
       "      <td>[wet, your, toothbrush, and, put, a, peasized, amount, of, toothpaste, on, it, brush, the, front, teeth, top, and, bottom, in, small, circles, for, 30, seconds, brush, the, back, teeth, top, and, bottom, in, small, circles, for, another, 30, seconds, brush, your, tongue, and, the, roof, of, your, mouth, for, 15, seconds, each, finally, rinse, your, mouth, and, toothbrush]</td>\n",
       "      <td>[wet, toothbrush, put, peasized, amount, toothpaste, brush, front, teeth, top, bottom, small, circles, 30, seconds, brush, back, teeth, top, bottom, small, circles, 30, seconds, brush, tongue, roof, mouth, 15, seconds, finally, rinse, mouth, toothbrush]</td>\n",
       "      <td>[wet, toothbrush, put, peasiz, amount, toothpast, brush, front, teeth, top, bottom, small, circl, 30, second, brush, back, teeth, top, bottom, small, circl, 30, second, brush, tongu, roof, mouth, 15, second, final, rins, mouth, toothbrush]</td>\n",
       "    </tr>\n",
       "    <tr>\n",
       "      <th>1</th>\n",
       "      <td>Wet your toothbrush and put a pea-sized amount of toothpaste on the bristles of the toothbrush. Toothpaste costs $5 per container. Make sure to use less than 5 cents per brushing.\\n\\nBrush the upper left, upper right, and upper front teeth inner and outer surfaces for 20 seconds each. Make sure the brush is never more than half-way smooshed against teeth.\\n\\nBrush the lower left, lower right, and lower front teeth inner and outer surfaces for 20 seconds each. Make sure the brush is never more than half-way smooshed against teeth.\\n\\nBrush your tongue and the roof of your mouth for 10 seconds each.\\n\\nRinse your mouth. Rinse the toothbrush with water three times.</td>\n",
       "      <td>wet your toothbrush and put a pea-sized amount of toothpaste on the bristles of the toothbrush. toothpaste costs $5 per container. make sure to use less than 5 cents per brushing.\\n\\nbrush the upper left, upper right, and upper front teeth inner and outer surfaces for 20 seconds each. make sure the brush is never more than half-way smooshed against teeth.\\n\\nbrush the lower left, lower right, and lower front teeth inner and outer surfaces for 20 seconds each. make sure the brush is never more than half-way smooshed against teeth.\\n\\nbrush your tongue and the roof of your mouth for 10 seconds each.\\n\\nrinse your mouth. rinse the toothbrush with water three times.</td>\n",
       "      <td>wet your toothbrush and put a peasized amount of toothpaste on the bristles of the toothbrush toothpaste costs 5 per container make sure to use less than 5 cents per brushing\\n\\nbrush the upper left upper right and upper front teeth inner and outer surfaces for 20 seconds each make sure the brush is never more than halfway smooshed against teeth\\n\\nbrush the lower left lower right and lower front teeth inner and outer surfaces for 20 seconds each make sure the brush is never more than halfway smooshed against teeth\\n\\nbrush your tongue and the roof of your mouth for 10 seconds each\\n\\nrinse your mouth rinse the toothbrush with water three times</td>\n",
       "      <td>[wet, your, toothbrush, and, put, a, peasized, amount, of, toothpaste, on, the, bristles, of, the, toothbrush, toothpaste, costs, 5, per, container, make, sure, to, use, less, than, 5, cents, per, brushing, brush, the, upper, left, upper, right, and, upper, front, teeth, inner, and, outer, surfaces, for, 20, seconds, each, make, sure, the, brush, is, never, more, than, halfway, smooshed, against, teeth, brush, the, lower, left, lower, right, and, lower, front, teeth, inner, and, outer, surfaces, for, 20, seconds, each, make, sure, the, brush, is, never, more, than, halfway, smooshed, against, teeth, brush, your, tongue, and, the, roof, of, your, mouth, ...]</td>\n",
       "      <td>[wet, toothbrush, put, peasized, amount, toothpaste, bristles, toothbrush, toothpaste, costs, 5, container, make, 5, cents, brushing, brush, upper, left, upper, upper, front, teeth, outer, surfaces, 20, seconds, make, brush, halfway, smooshed, teeth, brush, lower, left, lower, lower, front, teeth, outer, surfaces, 20, seconds, make, brush, halfway, smooshed, teeth, brush, tongue, roof, mouth, 10, seconds, rinse, mouth, rinse, toothbrush, water, times]</td>\n",
       "      <td>[wet, toothbrush, put, peasiz, amount, toothpast, bristl, toothbrush, toothpast, cost, 5, contain, make, 5, cent, brush, brush, upper, left, upper, upper, front, teeth, outer, surfac, 20, second, make, brush, halfway, smoosh, teeth, brush, lower, left, lower, lower, front, teeth, outer, surfac, 20, second, make, brush, halfway, smoosh, teeth, brush, tongu, roof, mouth, 10, second, rins, mouth, rins, toothbrush, water, time]</td>\n",
       "    </tr>\n",
       "  </tbody>\n",
       "</table>\n",
       "</div>"
      ],
      "text/plain": [
       "                                                                                                                                                                                                                                                                                                                                                                                                                                                                                                                                                                                                                                                                                         DOCUMENT  \\\n",
       "0                                                                                                                                                                                                                                                                                                                                              Wet your toothbrush and put a pea-sized amount of toothpaste on it.\\n\\nBrush the front teeth (top and bottom) in small circles for 30 seconds.\\n\\nBrush the back teeth (top and bottom) in small circles for another 30 seconds.\\n\\nBrush your tongue and the roof of your mouth for 15 seconds each.\\n\\nFinally, rinse your mouth and toothbrush.   \n",
       "1  Wet your toothbrush and put a pea-sized amount of toothpaste on the bristles of the toothbrush. Toothpaste costs $5 per container. Make sure to use less than 5 cents per brushing.\\n\\nBrush the upper left, upper right, and upper front teeth inner and outer surfaces for 20 seconds each. Make sure the brush is never more than half-way smooshed against teeth.\\n\\nBrush the lower left, lower right, and lower front teeth inner and outer surfaces for 20 seconds each. Make sure the brush is never more than half-way smooshed against teeth.\\n\\nBrush your tongue and the roof of your mouth for 10 seconds each.\\n\\nRinse your mouth. Rinse the toothbrush with water three times.   \n",
       "\n",
       "                                                                                                                                                                                                                                                                                                                                                                                                                                                                                                                                                                                                                                                                                        LOWERCASE  \\\n",
       "0                                                                                                                                                                                                                                                                                                                                              wet your toothbrush and put a pea-sized amount of toothpaste on it.\\n\\nbrush the front teeth (top and bottom) in small circles for 30 seconds.\\n\\nbrush the back teeth (top and bottom) in small circles for another 30 seconds.\\n\\nbrush your tongue and the roof of your mouth for 15 seconds each.\\n\\nfinally, rinse your mouth and toothbrush.   \n",
       "1  wet your toothbrush and put a pea-sized amount of toothpaste on the bristles of the toothbrush. toothpaste costs $5 per container. make sure to use less than 5 cents per brushing.\\n\\nbrush the upper left, upper right, and upper front teeth inner and outer surfaces for 20 seconds each. make sure the brush is never more than half-way smooshed against teeth.\\n\\nbrush the lower left, lower right, and lower front teeth inner and outer surfaces for 20 seconds each. make sure the brush is never more than half-way smooshed against teeth.\\n\\nbrush your tongue and the roof of your mouth for 10 seconds each.\\n\\nrinse your mouth. rinse the toothbrush with water three times.   \n",
       "\n",
       "                                                                                                                                                                                                                                                                                                                                                                                                                                                                                                                                                                                                                                                                       CLEANING  \\\n",
       "0                                                                                                                                                                                                                                                                                                                                       wet your toothbrush and put a peasized amount of toothpaste on it\\n\\nbrush the front teeth top and bottom in small circles for 30 seconds\\n\\nbrush the back teeth top and bottom in small circles for another 30 seconds\\n\\nbrush your tongue and the roof of your mouth for 15 seconds each\\n\\nfinally rinse your mouth and toothbrush   \n",
       "1  wet your toothbrush and put a peasized amount of toothpaste on the bristles of the toothbrush toothpaste costs 5 per container make sure to use less than 5 cents per brushing\\n\\nbrush the upper left upper right and upper front teeth inner and outer surfaces for 20 seconds each make sure the brush is never more than halfway smooshed against teeth\\n\\nbrush the lower left lower right and lower front teeth inner and outer surfaces for 20 seconds each make sure the brush is never more than halfway smooshed against teeth\\n\\nbrush your tongue and the roof of your mouth for 10 seconds each\\n\\nrinse your mouth rinse the toothbrush with water three times   \n",
       "\n",
       "                                                                                                                                                                                                                                                                                                                                                                                                                                                                                                                                                                                                                                                                                TOKENIZATION  \\\n",
       "0                                                                                                                                                                                                                                                                                                     [wet, your, toothbrush, and, put, a, peasized, amount, of, toothpaste, on, it, brush, the, front, teeth, top, and, bottom, in, small, circles, for, 30, seconds, brush, the, back, teeth, top, and, bottom, in, small, circles, for, another, 30, seconds, brush, your, tongue, and, the, roof, of, your, mouth, for, 15, seconds, each, finally, rinse, your, mouth, and, toothbrush]   \n",
       "1  [wet, your, toothbrush, and, put, a, peasized, amount, of, toothpaste, on, the, bristles, of, the, toothbrush, toothpaste, costs, 5, per, container, make, sure, to, use, less, than, 5, cents, per, brushing, brush, the, upper, left, upper, right, and, upper, front, teeth, inner, and, outer, surfaces, for, 20, seconds, each, make, sure, the, brush, is, never, more, than, halfway, smooshed, against, teeth, brush, the, lower, left, lower, right, and, lower, front, teeth, inner, and, outer, surfaces, for, 20, seconds, each, make, sure, the, brush, is, never, more, than, halfway, smooshed, against, teeth, brush, your, tongue, and, the, roof, of, your, mouth, ...]   \n",
       "\n",
       "                                                                                                                                                                                                                                                                                                                                                                                                                                                                STOP-WORDS  \\\n",
       "0                                                                                                                                                                                                            [wet, toothbrush, put, peasized, amount, toothpaste, brush, front, teeth, top, bottom, small, circles, 30, seconds, brush, back, teeth, top, bottom, small, circles, 30, seconds, brush, tongue, roof, mouth, 15, seconds, finally, rinse, mouth, toothbrush]   \n",
       "1  [wet, toothbrush, put, peasized, amount, toothpaste, bristles, toothbrush, toothpaste, costs, 5, container, make, 5, cents, brushing, brush, upper, left, upper, upper, front, teeth, outer, surfaces, 20, seconds, make, brush, halfway, smooshed, teeth, brush, lower, left, lower, lower, front, teeth, outer, surfaces, 20, seconds, make, brush, halfway, smooshed, teeth, brush, tongue, roof, mouth, 10, seconds, rinse, mouth, rinse, toothbrush, water, times]   \n",
       "\n",
       "                                                                                                                                                                                                                                                                                                                                                                                                                                      STEMMING  \n",
       "0                                                                                                                                                                                              [wet, toothbrush, put, peasiz, amount, toothpast, brush, front, teeth, top, bottom, small, circl, 30, second, brush, back, teeth, top, bottom, small, circl, 30, second, brush, tongu, roof, mouth, 15, second, final, rins, mouth, toothbrush]  \n",
       "1  [wet, toothbrush, put, peasiz, amount, toothpast, bristl, toothbrush, toothpast, cost, 5, contain, make, 5, cent, brush, brush, upper, left, upper, upper, front, teeth, outer, surfac, 20, second, make, brush, halfway, smoosh, teeth, brush, lower, left, lower, lower, front, teeth, outer, surfac, 20, second, make, brush, halfway, smoosh, teeth, brush, tongu, roof, mouth, 10, second, rins, mouth, rins, toothbrush, water, time]  "
      ]
     },
     "execution_count": 13,
     "metadata": {},
     "output_type": "execute_result"
    }
   ],
   "source": [
    "ME = '''Wet your toothbrush and put a pea-sized amount of toothpaste on the bristles of the toothbrush. Toothpaste costs $5 per container. Make sure to use less than 5 cents per brushing.\n",
    "\n",
    "Brush the upper left, upper right, and upper front teeth inner and outer surfaces for 20 seconds each. Make sure the brush is never more than half-way smooshed against teeth.\n",
    "\n",
    "Brush the lower left, lower right, and lower front teeth inner and outer surfaces for 20 seconds each. Make sure the brush is never more than half-way smooshed against teeth.\n",
    "\n",
    "Brush your tongue and the roof of your mouth for 10 seconds each.\n",
    "\n",
    "Rinse your mouth. Rinse the toothbrush with water three times.'''\n",
    "compare = pd.concat([compare, tf_idf.preprocess_text(ME)], \n",
    "                    ignore_index=True)\n",
    "compare"
   ]
  },
  {
   "cell_type": "code",
   "execution_count": 14,
   "id": "4b7f89e7-4272-472a-8f81-cbb5884207e7",
   "metadata": {},
   "outputs": [
    {
     "data": {
      "text/html": [
       "<div>\n",
       "<style scoped>\n",
       "    .dataframe tbody tr th:only-of-type {\n",
       "        vertical-align: middle;\n",
       "    }\n",
       "\n",
       "    .dataframe tbody tr th {\n",
       "        vertical-align: top;\n",
       "    }\n",
       "\n",
       "    .dataframe thead th {\n",
       "        text-align: right;\n",
       "    }\n",
       "</style>\n",
       "<table border=\"1\" class=\"dataframe\">\n",
       "  <thead>\n",
       "    <tr style=\"text-align: right;\">\n",
       "      <th></th>\n",
       "      <th>DOCUMENT</th>\n",
       "      <th>STEMMING</th>\n",
       "      <th>COSIM</th>\n",
       "    </tr>\n",
       "  </thead>\n",
       "  <tbody>\n",
       "    <tr>\n",
       "      <th>0</th>\n",
       "      <td>Wet your toothbrush and put a pea-sized amount of toothpaste on it.\\n\\nBrush the front teeth (top and bottom) in small circles for 30 seconds.\\n\\nBrush the back teeth (top and bottom) in small circles for another 30 seconds.\\n\\nBrush your tongue and the roof of your mouth for 15 seconds each.\\n\\nFinally, rinse your mouth and toothbrush.</td>\n",
       "      <td>[wet, toothbrush, put, peasiz, amount, toothpast, brush, front, teeth, top, bottom, small, circl, 30, second, brush, back, teeth, top, bottom, small, circl, 30, second, brush, tongu, roof, mouth, 15, second, final, rins, mouth, toothbrush]</td>\n",
       "      <td>1.000000</td>\n",
       "    </tr>\n",
       "    <tr>\n",
       "      <th>1</th>\n",
       "      <td>Wet your toothbrush and put a pea-sized amount of toothpaste on the bristles of the toothbrush. Toothpaste costs $5 per container. Make sure to use less than 5 cents per brushing.\\n\\nBrush the upper left, upper right, and upper front teeth inner and outer surfaces for 20 seconds each. Make sure the brush is never more than half-way smooshed against teeth.\\n\\nBrush the lower left, lower right, and lower front teeth inner and outer surfaces for 20 seconds each. Make sure the brush is never more than half-way smooshed against teeth.\\n\\nBrush your tongue and the roof of your mouth for 10 seconds each.\\n\\nRinse your mouth. Rinse the toothbrush with water three times.</td>\n",
       "      <td>[wet, toothbrush, put, peasiz, amount, toothpast, bristl, toothbrush, toothpast, cost, 5, contain, make, 5, cent, brush, brush, upper, left, upper, upper, front, teeth, outer, surfac, 20, second, make, brush, halfway, smoosh, teeth, brush, lower, left, lower, lower, front, teeth, outer, surfac, 20, second, make, brush, halfway, smoosh, teeth, brush, tongu, roof, mouth, 10, second, rins, mouth, rins, toothbrush, water, time]</td>\n",
       "      <td>0.431605</td>\n",
       "    </tr>\n",
       "  </tbody>\n",
       "</table>\n",
       "</div>"
      ],
      "text/plain": [
       "                                                                                                                                                                                                                                                                                                                                                                                                                                                                                                                                                                                                                                                                                         DOCUMENT  \\\n",
       "0                                                                                                                                                                                                                                                                                                                                              Wet your toothbrush and put a pea-sized amount of toothpaste on it.\\n\\nBrush the front teeth (top and bottom) in small circles for 30 seconds.\\n\\nBrush the back teeth (top and bottom) in small circles for another 30 seconds.\\n\\nBrush your tongue and the roof of your mouth for 15 seconds each.\\n\\nFinally, rinse your mouth and toothbrush.   \n",
       "1  Wet your toothbrush and put a pea-sized amount of toothpaste on the bristles of the toothbrush. Toothpaste costs $5 per container. Make sure to use less than 5 cents per brushing.\\n\\nBrush the upper left, upper right, and upper front teeth inner and outer surfaces for 20 seconds each. Make sure the brush is never more than half-way smooshed against teeth.\\n\\nBrush the lower left, lower right, and lower front teeth inner and outer surfaces for 20 seconds each. Make sure the brush is never more than half-way smooshed against teeth.\\n\\nBrush your tongue and the roof of your mouth for 10 seconds each.\\n\\nRinse your mouth. Rinse the toothbrush with water three times.   \n",
       "\n",
       "                                                                                                                                                                                                                                                                                                                                                                                                                                      STEMMING  \\\n",
       "0                                                                                                                                                                                              [wet, toothbrush, put, peasiz, amount, toothpast, brush, front, teeth, top, bottom, small, circl, 30, second, brush, back, teeth, top, bottom, small, circl, 30, second, brush, tongu, roof, mouth, 15, second, final, rins, mouth, toothbrush]   \n",
       "1  [wet, toothbrush, put, peasiz, amount, toothpast, bristl, toothbrush, toothpast, cost, 5, contain, make, 5, cent, brush, brush, upper, left, upper, upper, front, teeth, outer, surfac, 20, second, make, brush, halfway, smoosh, teeth, brush, lower, left, lower, lower, front, teeth, outer, surfac, 20, second, make, brush, halfway, smoosh, teeth, brush, tongu, roof, mouth, 10, second, rins, mouth, rins, toothbrush, water, time]   \n",
       "\n",
       "      COSIM  \n",
       "0  1.000000  \n",
       "1  0.431605  "
      ]
     },
     "execution_count": 14,
     "metadata": {},
     "output_type": "execute_result"
    }
   ],
   "source": [
    "tf_idf.cosineSimilarity(compare)"
   ]
  },
  {
   "cell_type": "markdown",
   "id": "2b7f8ca0",
   "metadata": {},
   "source": [
    "## Document analysis\n",
    "\n",
    "- Make a list of all the improvements and changes you made to document\n",
    "- use the `tf_idf.cosineSimilarity` function to compare the AI version to your own\n",
    "\n",
    "Write a report on your intellectual property  in the 'revised document'. \n",
    "- How much can you claim as yours?\n",
    "- How many ideas came from AI?\n",
    "- How many ideas came from you?\n",
    "- Is this a _new_ document?\n",
    "- If this work was made by you and another person-not AI-would you need to credit this person as a coauthor?\n",
    "- What else can you discuss about this comparison and this process?\n",
    "\n",
    "Cosine Similarity score was 43.1% so I think the document is mine with the included edits. The text is measureably different from the original ChatGPT output. In each step, I added my own expertise and background to make the instructions more clear and precise. Therefore, I added 5 ideas to the document. "
   ]
  },
  {
   "cell_type": "code",
   "execution_count": null,
   "id": "1d6d74a1-a120-42a1-b2fb-73c69011c3de",
   "metadata": {},
   "outputs": [],
   "source": []
  }
 ],
 "metadata": {
  "jupytext": {
   "formats": "md:myst,ipynb"
  },
  "kernelspec": {
   "display_name": "Python 3 (ipykernel)",
   "language": "python",
   "name": "python3"
  },
  "language_info": {
   "codemirror_mode": {
    "name": "ipython",
    "version": 3
   },
   "file_extension": ".py",
   "mimetype": "text/x-python",
   "name": "python",
   "nbconvert_exporter": "python",
   "pygments_lexer": "ipython3",
   "version": "3.9.6"
  }
 },
 "nbformat": 4,
 "nbformat_minor": 5
}
