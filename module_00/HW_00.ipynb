{
 "cells": [
  {
   "cell_type": "code",
   "execution_count": 1,
   "id": "83174d23",
   "metadata": {},
   "outputs": [
    {
     "name": "stderr",
     "output_type": "stream",
     "text": [
      "[nltk_data] Downloading package punkt to /home/ryan/nltk_data...\n",
      "[nltk_data]   Package punkt is already up-to-date!\n"
     ]
    }
   ],
   "source": [
    "import numpy as np\n",
    "import matplotlib.pyplot as plt\n",
    "plt.style.use('fivethirtyeight')\n",
    "import pandas as pd\n",
    "import tf_idf"
   ]
  },
  {
   "cell_type": "markdown",
   "id": "2e81dada",
   "metadata": {},
   "source": [
    "# HW_00 - Generative AI writing analysis\n",
    "\n",
    "In this assignment, you will generate 500 words using a generative AI prompt and prompt engineering. Then, edit the document to use [active]() phrasing and add your own ideas to the document. Your goal is to create a short technical report to convice your manager that you should use Monte Carlo models in your engineering work."
   ]
  },
  {
   "cell_type": "markdown",
   "id": "3cda6a4e",
   "metadata": {},
   "source": [
    "## Prompt Input and Output\n",
    "\n",
    "-> _copy-paste your prompts and outputs here_"
   ]
  },
  {
   "cell_type": "markdown",
   "id": "3c8a0d2f",
   "metadata": {},
   "source": [
    "## Revised document\n",
    "\n",
    "-> _copy-paste the document here, then edit the output to remove passive phrasing and add specific ideas from your own research or experience (try quantifying any phrases such as 'many', 'fewer', 'more important', etc._"
   ]
  },
  {
   "cell_type": "markdown",
   "id": "549e5c0b",
   "metadata": {},
   "source": [
    "## Document analysis\n",
    "\n",
    "- Make a list of all the improvements and changes you made to document\n",
    "- use the `tf_idf.cosineSimilarity` function to compare the AI version to your own\n",
    "\n",
    "Write a report on your intellectual property  in the 'revised document'. \n",
    "- How much can you claim as yours?\n",
    "- How many ideas came from AI?\n",
    "- How many ideas came from you?\n",
    "- Is this a _new_ document?\n",
    "- If this work was made by you and another person-not AI-would you need to credit this person as a coauthor?\n",
    "- What else can you discuss about this comparison and this process?"
   ]
  },
  {
   "cell_type": "code",
   "execution_count": null,
   "id": "044c8b35",
   "metadata": {},
   "outputs": [],
   "source": []
  }
 ],
 "metadata": {
  "kernelspec": {
   "display_name": "Python 3",
   "language": "python",
   "name": "python3"
  },
  "language_info": {
   "codemirror_mode": {
    "name": "ipython",
    "version": 3
   },
   "file_extension": ".py",
   "mimetype": "text/x-python",
   "name": "python",
   "nbconvert_exporter": "python",
   "pygments_lexer": "ipython3",
   "version": "3.9.0"
  }
 },
 "nbformat": 4,
 "nbformat_minor": 5
}
