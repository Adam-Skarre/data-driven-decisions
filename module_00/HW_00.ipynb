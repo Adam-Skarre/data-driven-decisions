{
 "cells": [
  {
   "cell_type": "code",
   "execution_count": 1,
   "id": "6840e790",
   "metadata": {},
   "outputs": [],
   "source": [
    "import numpy as np\n",
    "import matplotlib.pyplot as plt\n",
    "plt.style.use('fivethirtyeight')\n",
    "import pandas as pd"
   ]
  },
  {
   "cell_type": "markdown",
   "id": "2148a32a",
   "metadata": {},
   "source": [
    "# HW_00 - Generative AI writing analysis\n",
    "\n",
    "In this assignment, you will generate instructions on brushing your teeth. You can use [ChatGPT](https://chatgpt.com/)\n",
    "\n",
    "Some metrics to add to the generated instructions:\n",
    "\n",
    "- number of strokes per minute\n",
    "- total brushing time\n",
    "- time spent per tooth \n",
    "- number of teeth or total area to brush on teeth\n",
    "- deflection of brush bristles for proper cleaning\n",
    "- what else can you think of?"
   ]
  },
  {
   "cell_type": "markdown",
   "id": "c3825564",
   "metadata": {},
   "source": [
    "## Prompt Input and Output\n",
    "**ME**\n",
    "\n",
    "I want you to act as a father of a 5 year old boy. You are going to give them five steps to brush teeth. Make sure to brush both front and back of teeth.\n",
    "\n",
    "**CHATGPT**\n",
    "\n",
    "1. First, take your toothbrush and put a little bit of toothpaste on it. About the size of a pea. You don't need too much!\n",
    "2. Now, let's start brushing the front of your teeth. Gently move your toothbrush in small circles on the front of your top and bottom teeth. Keep brushing for a little while to make sure they're nice and clean.\n",
    "3. Next, it's time to brush the back of your teeth. Move your toothbrush to the back of your mouth and use the same small circles. Make sure you brush both the top and bottom teeth, getting all the way to the back ones.\n",
    "4. We can't forget the parts of our teeth we use to chew food. Brush the tops of your teeth, where you bite down. Do this for both your top and bottom teeth, making sure to get all the food bits out.\n",
    "5. Finally, gently brush your tongue to keep your breath fresh. When you're done, rinse your mouth with water and spit it out into the sink. Then rinse your toothbrush and put it back where it belongs.\n",
    "\n",
    "Great job! Now your teeth are clean and healthy. Keep brushing every morning and night to keep that bright smile!"
   ]
  },
  {
   "cell_type": "markdown",
   "id": "64f3d3ea",
   "metadata": {},
   "source": [
    "## Revised document\n",
    "\n",
    "1. Rinse your toothbrush for 5 seconds in water and put a pea-sized amount of toothpaste on the center of the toothbrush bristles.\n",
    "2. Brush the upper and lower front teeth inner and outer surfaces for 30 seconds each. Make sure the bristles of the brush are never pushed against your teeth more than halfway.\n",
    "3. Brush the upper and lower back teeth inner and outer surfaces for 30 seconds each ensuring the back teeth are reached. Make sure the bristles of the brush are never pushed against your teeth more than halfway.\n",
    "4. Brush the roof of your mouth and your tongue for 20 seconds each.\n",
    "5. Lastly, rinse your mouth three times with water. Rinse the toothbrush for 3 seconds and return it to the holder. \n",
    "6. (Optional) The use of mouthwash after brushing teeth is optional. Mouthwash can be used afterwards to enhance breath and tooth health. Fill the mouthwash cup up to the marked line. Rinse the mouthwash in your mouth for 30 seconds and spit out. This prevents bad breath and removes bacteria from areas where a toothbrush can't reach."
   ]
  },
  {
   "cell_type": "markdown",
   "id": "ad473b69",
   "metadata": {},
   "source": [
    "_run the cell below to get your `tf_idf` functions ready to run_"
   ]
  },
  {
   "cell_type": "code",
   "execution_count": 2,
   "id": "07dd45b3",
   "metadata": {},
   "outputs": [
    {
     "name": "stdout",
     "output_type": "stream",
     "text": [
      "Requirement already satisfied: tf-idf-cosimm==0.0.2 in /opt/conda/lib/python3.9/site-packages (0.0.2)\n",
      "Requirement already satisfied: numpy in /opt/conda/lib/python3.9/site-packages (from tf-idf-cosimm==0.0.2) (1.20.3)\n",
      "Requirement already satisfied: nltk in /opt/conda/lib/python3.9/site-packages (from tf-idf-cosimm==0.0.2) (3.8.1)\n",
      "Requirement already satisfied: scikit-learn in /opt/conda/lib/python3.9/site-packages (from tf-idf-cosimm==0.0.2) (0.24.2)\n",
      "Requirement already satisfied: pandas in /opt/conda/lib/python3.9/site-packages (from tf-idf-cosimm==0.0.2) (1.3.2)\n",
      "Requirement already satisfied: click in /opt/conda/lib/python3.9/site-packages (from nltk->tf-idf-cosimm==0.0.2) (8.0.1)\n",
      "Requirement already satisfied: regex>=2021.8.3 in /opt/conda/lib/python3.9/site-packages (from nltk->tf-idf-cosimm==0.0.2) (2024.5.15)\n",
      "Requirement already satisfied: joblib in /opt/conda/lib/python3.9/site-packages (from nltk->tf-idf-cosimm==0.0.2) (1.0.1)\n",
      "Requirement already satisfied: tqdm in /opt/conda/lib/python3.9/site-packages (from nltk->tf-idf-cosimm==0.0.2) (4.62.2)\n",
      "Requirement already satisfied: python-dateutil>=2.7.3 in /opt/conda/lib/python3.9/site-packages (from pandas->tf-idf-cosimm==0.0.2) (2.8.2)\n",
      "Requirement already satisfied: pytz>=2017.3 in /opt/conda/lib/python3.9/site-packages (from pandas->tf-idf-cosimm==0.0.2) (2021.1)\n",
      "Requirement already satisfied: six>=1.5 in /opt/conda/lib/python3.9/site-packages (from python-dateutil>=2.7.3->pandas->tf-idf-cosimm==0.0.2) (1.16.0)\n",
      "Requirement already satisfied: scipy>=0.19.1 in /opt/conda/lib/python3.9/site-packages (from scikit-learn->tf-idf-cosimm==0.0.2) (1.7.1)\n",
      "Requirement already satisfied: threadpoolctl>=2.0.0 in /opt/conda/lib/python3.9/site-packages (from scikit-learn->tf-idf-cosimm==0.0.2) (2.2.0)\n"
     ]
    }
   ],
   "source": [
    "! pip install tf-idf-cosimm==0.0.2"
   ]
  },
  {
   "cell_type": "code",
   "execution_count": 3,
   "id": "a87cd6c7-5db8-43fc-a63b-c3d9fcb4a531",
   "metadata": {},
   "outputs": [
    {
     "name": "stderr",
     "output_type": "stream",
     "text": [
      "[nltk_data] Downloading package punkt to /home/jovyan/nltk_data...\n",
      "[nltk_data]   Package punkt is already up-to-date!\n"
     ]
    }
   ],
   "source": [
    "import tf_idf.core as tf_idf"
   ]
  },
  {
   "cell_type": "code",
   "execution_count": 7,
   "id": "a12beb9f-aee7-4e7a-962a-0c5bf22f32b3",
   "metadata": {},
   "outputs": [],
   "source": [
    "AI = '''First, take your toothbrush and put a little bit of toothpaste on it. About the size of a pea. You don't need too much!\n",
    "Now, let's start brushing the front of your teeth. Gently move your toothbrush in small circles on the front of your top and bottom teeth. Keep brushing for a little while to make sure they're nice and clean.\n",
    "Next, it's time to brush the back of your teeth. Move your toothbrush to the back of your mouth and use the same small circles. Make sure you brush both the top and bottom teeth, getting all the way to the back ones.\n",
    "We can't forget the parts of our teeth we use to chew food. Brush the tops of your teeth, where you bite down. Do this for both your top and bottom teeth, making sure to get all the food bits out.\n",
    "Finally, gently brush your tongue to keep your breath fresh. When you're done, rinse your mouth with water and spit it out into the sink. Then rinse your toothbrush and put it back where it belongs.'''\n",
    "compare = tf_idf.preprocess_text(AI)"
   ]
  },
  {
   "cell_type": "code",
   "execution_count": 8,
   "id": "bf6f7dc1-3da0-4251-b5a3-a12121939d3b",
   "metadata": {},
   "outputs": [
    {
     "data": {
      "text/html": [
       "<div>\n",
       "<style scoped>\n",
       "    .dataframe tbody tr th:only-of-type {\n",
       "        vertical-align: middle;\n",
       "    }\n",
       "\n",
       "    .dataframe tbody tr th {\n",
       "        vertical-align: top;\n",
       "    }\n",
       "\n",
       "    .dataframe thead th {\n",
       "        text-align: right;\n",
       "    }\n",
       "</style>\n",
       "<table border=\"1\" class=\"dataframe\">\n",
       "  <thead>\n",
       "    <tr style=\"text-align: right;\">\n",
       "      <th></th>\n",
       "      <th>DOCUMENT</th>\n",
       "      <th>LOWERCASE</th>\n",
       "      <th>CLEANING</th>\n",
       "      <th>TOKENIZATION</th>\n",
       "      <th>STOP-WORDS</th>\n",
       "      <th>STEMMING</th>\n",
       "    </tr>\n",
       "  </thead>\n",
       "  <tbody>\n",
       "    <tr>\n",
       "      <th>0</th>\n",
       "      <td>First, take your toothbrush and put a little bit of toothpaste on it. About the size of a pea. You don't need too much!\\nNow, let's start brushing the front of your teeth. Gently move your toothbrush in small circles on the front of your top and bottom teeth. Keep brushing for a little while to make sure they're nice and clean.\\nNext, it's time to brush the back of your teeth. Move your toothbrush to the back of your mouth and use the same small circles. Make sure you brush both the top and bottom teeth, getting all the way to the back ones.\\nWe can't forget the parts of our teeth we use to chew food. Brush the tops of your teeth, where you bite down. Do this for both your top and bottom teeth, making sure to get all the food bits out.\\nFinally, gently brush your tongue to keep your breath fresh. When you're done, rinse your mouth with water and spit it out into the sink. Then rinse your toothbrush and put it back where it belongs.</td>\n",
       "      <td>first, take your toothbrush and put a little bit of toothpaste on it. about the size of a pea. you don't need too much!\\nnow, let's start brushing the front of your teeth. gently move your toothbrush in small circles on the front of your top and bottom teeth. keep brushing for a little while to make sure they're nice and clean.\\nnext, it's time to brush the back of your teeth. move your toothbrush to the back of your mouth and use the same small circles. make sure you brush both the top and bottom teeth, getting all the way to the back ones.\\nwe can't forget the parts of our teeth we use to chew food. brush the tops of your teeth, where you bite down. do this for both your top and bottom teeth, making sure to get all the food bits out.\\nfinally, gently brush your tongue to keep your breath fresh. when you're done, rinse your mouth with water and spit it out into the sink. then rinse your toothbrush and put it back where it belongs.</td>\n",
       "      <td>first take your toothbrush and put a little bit of toothpaste on it about the size of a pea you dont need too much\\nnow lets start brushing the front of your teeth gently move your toothbrush in small circles on the front of your top and bottom teeth keep brushing for a little while to make sure theyre nice and clean\\nnext its time to brush the back of your teeth move your toothbrush to the back of your mouth and use the same small circles make sure you brush both the top and bottom teeth getting all the way to the back ones\\nwe cant forget the parts of our teeth we use to chew food brush the tops of your teeth where you bite down do this for both your top and bottom teeth making sure to get all the food bits out\\nfinally gently brush your tongue to keep your breath fresh when youre done rinse your mouth with water and spit it out into the sink then rinse your toothbrush and put it back where it belongs</td>\n",
       "      <td>[first, take, your, toothbrush, and, put, a, little, bit, of, toothpaste, on, it, about, the, size, of, a, pea, you, dont, need, too, much, now, lets, start, brushing, the, front, of, your, teeth, gently, move, your, toothbrush, in, small, circles, on, the, front, of, your, top, and, bottom, teeth, keep, brushing, for, a, little, while, to, make, sure, theyre, nice, and, clean, next, its, time, to, brush, the, back, of, your, teeth, move, your, toothbrush, to, the, back, of, your, mouth, and, use, the, same, small, circles, make, sure, you, brush, both, the, top, and, bottom, teeth, getting, all, the, ...]</td>\n",
       "      <td>[toothbrush, put, bit, toothpaste, size, pea, lets, start, brushing, front, teeth, gently, move, toothbrush, small, circles, front, top, bottom, teeth, brushing, make, theyre, nice, clean, time, brush, back, teeth, move, toothbrush, back, mouth, small, circles, make, brush, top, bottom, teeth, back, forget, parts, teeth, chew, food, brush, tops, teeth, bite, top, bottom, teeth, making, food, bits, finally, gently, brush, tongue, breath, fresh, youre, rinse, mouth, water, spit, sink, rinse, toothbrush, put, back, belongs]</td>\n",
       "      <td>[toothbrush, put, bit, toothpast, size, pea, let, start, brush, front, teeth, gentli, move, toothbrush, small, circl, front, top, bottom, teeth, brush, make, theyr, nice, clean, time, brush, back, teeth, move, toothbrush, back, mouth, small, circl, make, brush, top, bottom, teeth, back, forget, part, teeth, chew, food, brush, top, teeth, bite, top, bottom, teeth, make, food, bit, final, gentli, brush, tongu, breath, fresh, your, rins, mouth, water, spit, sink, rins, toothbrush, put, back, belong]</td>\n",
       "    </tr>\n",
       "    <tr>\n",
       "      <th>1</th>\n",
       "      <td>Rinse your toothbrush for 5 seconds in water and put a pea-sized amount of toothpaste on the center of the toothbrush bristles.\\nBrush the upper and lower front teeth inner and outer surfaces for 30 seconds each. Make sure the bristles of the brush are never pushed against your teeth more than halfway.\\nBrush the upper and lower back teeth inner and outer surfaces for 30 seconds each ensuring the back teeth are reached. Make sure the bristles of the brush are never pushed against your teeth more than halfway.\\nBrush the roof of your mouth and your tongue for 20 seconds each.\\nLastly, rinse your mouth three times with water. Rinse the toothbrush for 3 seconds and return it to the holder.\\n(Optional) The use of mouthwash after brushing teeth is optional. Mouthwash can be used afterwards to enhance breath and tooth health. Fill the mouthwash cup up to the marked line. Rinse the mouthwash in your mouth for 30 seconds and spit out. This prevents bad breath and removes bacteria from areas where a toothbrush can't reach.</td>\n",
       "      <td>rinse your toothbrush for 5 seconds in water and put a pea-sized amount of toothpaste on the center of the toothbrush bristles.\\nbrush the upper and lower front teeth inner and outer surfaces for 30 seconds each. make sure the bristles of the brush are never pushed against your teeth more than halfway.\\nbrush the upper and lower back teeth inner and outer surfaces for 30 seconds each ensuring the back teeth are reached. make sure the bristles of the brush are never pushed against your teeth more than halfway.\\nbrush the roof of your mouth and your tongue for 20 seconds each.\\nlastly, rinse your mouth three times with water. rinse the toothbrush for 3 seconds and return it to the holder.\\n(optional) the use of mouthwash after brushing teeth is optional. mouthwash can be used afterwards to enhance breath and tooth health. fill the mouthwash cup up to the marked line. rinse the mouthwash in your mouth for 30 seconds and spit out. this prevents bad breath and removes bacteria from areas where a toothbrush can't reach.</td>\n",
       "      <td>rinse your toothbrush for 5 seconds in water and put a peasized amount of toothpaste on the center of the toothbrush bristles\\nbrush the upper and lower front teeth inner and outer surfaces for 30 seconds each make sure the bristles of the brush are never pushed against your teeth more than halfway\\nbrush the upper and lower back teeth inner and outer surfaces for 30 seconds each ensuring the back teeth are reached make sure the bristles of the brush are never pushed against your teeth more than halfway\\nbrush the roof of your mouth and your tongue for 20 seconds each\\nlastly rinse your mouth three times with water rinse the toothbrush for 3 seconds and return it to the holder\\noptional the use of mouthwash after brushing teeth is optional mouthwash can be used afterwards to enhance breath and tooth health fill the mouthwash cup up to the marked line rinse the mouthwash in your mouth for 30 seconds and spit out this prevents bad breath and removes bacteria from areas where a toothbrush cant reach</td>\n",
       "      <td>[rinse, your, toothbrush, for, 5, seconds, in, water, and, put, a, peasized, amount, of, toothpaste, on, the, center, of, the, toothbrush, bristles, brush, the, upper, and, lower, front, teeth, inner, and, outer, surfaces, for, 30, seconds, each, make, sure, the, bristles, of, the, brush, are, never, pushed, against, your, teeth, more, than, halfway, brush, the, upper, and, lower, back, teeth, inner, and, outer, surfaces, for, 30, seconds, each, ensuring, the, back, teeth, are, reached, make, sure, the, bristles, of, the, brush, are, never, pushed, against, your, teeth, more, than, halfway, brush, the, roof, of, your, mouth, and, your, tongue, for, ...]</td>\n",
       "      <td>[rinse, toothbrush, 5, seconds, water, put, peasized, amount, toothpaste, center, toothbrush, bristles, brush, upper, lower, front, teeth, outer, surfaces, 30, seconds, make, bristles, brush, pushed, teeth, halfway, brush, upper, lower, back, teeth, outer, surfaces, 30, seconds, ensuring, back, teeth, reached, make, bristles, brush, pushed, teeth, halfway, brush, roof, mouth, tongue, 20, seconds, lastly, rinse, mouth, times, water, rinse, toothbrush, 3, seconds, return, holder, optional, mouthwash, brushing, teeth, optional, mouthwash, enhance, breath, tooth, health, fill, mouthwash, cup, marked, line, rinse, mouthwash, mouth, 30, seconds, spit, prevents, breath, removes, bacteria, areas, toothbrush, reach]</td>\n",
       "      <td>[rins, toothbrush, 5, second, water, put, peasiz, amount, toothpast, center, toothbrush, bristl, brush, upper, lower, front, teeth, outer, surfac, 30, second, make, bristl, brush, push, teeth, halfway, brush, upper, lower, back, teeth, outer, surfac, 30, second, ensur, back, teeth, reach, make, bristl, brush, push, teeth, halfway, brush, roof, mouth, tongu, 20, second, lastli, rins, mouth, time, water, rins, toothbrush, 3, second, return, holder, option, mouthwash, brush, teeth, option, mouthwash, enhanc, breath, tooth, health, fill, mouthwash, cup, mark, line, rins, mouthwash, mouth, 30, second, spit, prevent, breath, remov, bacteria, area, toothbrush, reach]</td>\n",
       "    </tr>\n",
       "  </tbody>\n",
       "</table>\n",
       "</div>"
      ],
      "text/plain": [
       "                                                                                                                                                                                                                                                                                                                                                                                                                                                                                                                                                                                                                                                                                                                                                                                                                                                                                                                                                                                                                                                                DOCUMENT  \\\n",
       "0                                                                                      First, take your toothbrush and put a little bit of toothpaste on it. About the size of a pea. You don't need too much!\\nNow, let's start brushing the front of your teeth. Gently move your toothbrush in small circles on the front of your top and bottom teeth. Keep brushing for a little while to make sure they're nice and clean.\\nNext, it's time to brush the back of your teeth. Move your toothbrush to the back of your mouth and use the same small circles. Make sure you brush both the top and bottom teeth, getting all the way to the back ones.\\nWe can't forget the parts of our teeth we use to chew food. Brush the tops of your teeth, where you bite down. Do this for both your top and bottom teeth, making sure to get all the food bits out.\\nFinally, gently brush your tongue to keep your breath fresh. When you're done, rinse your mouth with water and spit it out into the sink. Then rinse your toothbrush and put it back where it belongs.   \n",
       "1  Rinse your toothbrush for 5 seconds in water and put a pea-sized amount of toothpaste on the center of the toothbrush bristles.\\nBrush the upper and lower front teeth inner and outer surfaces for 30 seconds each. Make sure the bristles of the brush are never pushed against your teeth more than halfway.\\nBrush the upper and lower back teeth inner and outer surfaces for 30 seconds each ensuring the back teeth are reached. Make sure the bristles of the brush are never pushed against your teeth more than halfway.\\nBrush the roof of your mouth and your tongue for 20 seconds each.\\nLastly, rinse your mouth three times with water. Rinse the toothbrush for 3 seconds and return it to the holder.\\n(Optional) The use of mouthwash after brushing teeth is optional. Mouthwash can be used afterwards to enhance breath and tooth health. Fill the mouthwash cup up to the marked line. Rinse the mouthwash in your mouth for 30 seconds and spit out. This prevents bad breath and removes bacteria from areas where a toothbrush can't reach.   \n",
       "\n",
       "                                                                                                                                                                                                                                                                                                                                                                                                                                                                                                                                                                                                                                                                                                                                                                                                                                                                                                                                                                                                                                                               LOWERCASE  \\\n",
       "0                                                                                      first, take your toothbrush and put a little bit of toothpaste on it. about the size of a pea. you don't need too much!\\nnow, let's start brushing the front of your teeth. gently move your toothbrush in small circles on the front of your top and bottom teeth. keep brushing for a little while to make sure they're nice and clean.\\nnext, it's time to brush the back of your teeth. move your toothbrush to the back of your mouth and use the same small circles. make sure you brush both the top and bottom teeth, getting all the way to the back ones.\\nwe can't forget the parts of our teeth we use to chew food. brush the tops of your teeth, where you bite down. do this for both your top and bottom teeth, making sure to get all the food bits out.\\nfinally, gently brush your tongue to keep your breath fresh. when you're done, rinse your mouth with water and spit it out into the sink. then rinse your toothbrush and put it back where it belongs.   \n",
       "1  rinse your toothbrush for 5 seconds in water and put a pea-sized amount of toothpaste on the center of the toothbrush bristles.\\nbrush the upper and lower front teeth inner and outer surfaces for 30 seconds each. make sure the bristles of the brush are never pushed against your teeth more than halfway.\\nbrush the upper and lower back teeth inner and outer surfaces for 30 seconds each ensuring the back teeth are reached. make sure the bristles of the brush are never pushed against your teeth more than halfway.\\nbrush the roof of your mouth and your tongue for 20 seconds each.\\nlastly, rinse your mouth three times with water. rinse the toothbrush for 3 seconds and return it to the holder.\\n(optional) the use of mouthwash after brushing teeth is optional. mouthwash can be used afterwards to enhance breath and tooth health. fill the mouthwash cup up to the marked line. rinse the mouthwash in your mouth for 30 seconds and spit out. this prevents bad breath and removes bacteria from areas where a toothbrush can't reach.   \n",
       "\n",
       "                                                                                                                                                                                                                                                                                                                                                                                                                                                                                                                                                                                                                                                                                                                                                                                                                                                                                                                                                                                                                                              CLEANING  \\\n",
       "0                                                                                                 first take your toothbrush and put a little bit of toothpaste on it about the size of a pea you dont need too much\\nnow lets start brushing the front of your teeth gently move your toothbrush in small circles on the front of your top and bottom teeth keep brushing for a little while to make sure theyre nice and clean\\nnext its time to brush the back of your teeth move your toothbrush to the back of your mouth and use the same small circles make sure you brush both the top and bottom teeth getting all the way to the back ones\\nwe cant forget the parts of our teeth we use to chew food brush the tops of your teeth where you bite down do this for both your top and bottom teeth making sure to get all the food bits out\\nfinally gently brush your tongue to keep your breath fresh when youre done rinse your mouth with water and spit it out into the sink then rinse your toothbrush and put it back where it belongs   \n",
       "1  rinse your toothbrush for 5 seconds in water and put a peasized amount of toothpaste on the center of the toothbrush bristles\\nbrush the upper and lower front teeth inner and outer surfaces for 30 seconds each make sure the bristles of the brush are never pushed against your teeth more than halfway\\nbrush the upper and lower back teeth inner and outer surfaces for 30 seconds each ensuring the back teeth are reached make sure the bristles of the brush are never pushed against your teeth more than halfway\\nbrush the roof of your mouth and your tongue for 20 seconds each\\nlastly rinse your mouth three times with water rinse the toothbrush for 3 seconds and return it to the holder\\noptional the use of mouthwash after brushing teeth is optional mouthwash can be used afterwards to enhance breath and tooth health fill the mouthwash cup up to the marked line rinse the mouthwash in your mouth for 30 seconds and spit out this prevents bad breath and removes bacteria from areas where a toothbrush cant reach   \n",
       "\n",
       "                                                                                                                                                                                                                                                                                                                                                                                                                                                                                                                                                                                                                                                                            TOKENIZATION  \\\n",
       "0                                                  [first, take, your, toothbrush, and, put, a, little, bit, of, toothpaste, on, it, about, the, size, of, a, pea, you, dont, need, too, much, now, lets, start, brushing, the, front, of, your, teeth, gently, move, your, toothbrush, in, small, circles, on, the, front, of, your, top, and, bottom, teeth, keep, brushing, for, a, little, while, to, make, sure, theyre, nice, and, clean, next, its, time, to, brush, the, back, of, your, teeth, move, your, toothbrush, to, the, back, of, your, mouth, and, use, the, same, small, circles, make, sure, you, brush, both, the, top, and, bottom, teeth, getting, all, the, ...]   \n",
       "1  [rinse, your, toothbrush, for, 5, seconds, in, water, and, put, a, peasized, amount, of, toothpaste, on, the, center, of, the, toothbrush, bristles, brush, the, upper, and, lower, front, teeth, inner, and, outer, surfaces, for, 30, seconds, each, make, sure, the, bristles, of, the, brush, are, never, pushed, against, your, teeth, more, than, halfway, brush, the, upper, and, lower, back, teeth, inner, and, outer, surfaces, for, 30, seconds, each, ensuring, the, back, teeth, are, reached, make, sure, the, bristles, of, the, brush, are, never, pushed, against, your, teeth, more, than, halfway, brush, the, roof, of, your, mouth, and, your, tongue, for, ...]   \n",
       "\n",
       "                                                                                                                                                                                                                                                                                                                                                                                                                                                                                                                                                                                                                                                                                                                                     STOP-WORDS  \\\n",
       "0                                                                                                                                                                                                [toothbrush, put, bit, toothpaste, size, pea, lets, start, brushing, front, teeth, gently, move, toothbrush, small, circles, front, top, bottom, teeth, brushing, make, theyre, nice, clean, time, brush, back, teeth, move, toothbrush, back, mouth, small, circles, make, brush, top, bottom, teeth, back, forget, parts, teeth, chew, food, brush, tops, teeth, bite, top, bottom, teeth, making, food, bits, finally, gently, brush, tongue, breath, fresh, youre, rinse, mouth, water, spit, sink, rinse, toothbrush, put, back, belongs]   \n",
       "1  [rinse, toothbrush, 5, seconds, water, put, peasized, amount, toothpaste, center, toothbrush, bristles, brush, upper, lower, front, teeth, outer, surfaces, 30, seconds, make, bristles, brush, pushed, teeth, halfway, brush, upper, lower, back, teeth, outer, surfaces, 30, seconds, ensuring, back, teeth, reached, make, bristles, brush, pushed, teeth, halfway, brush, roof, mouth, tongue, 20, seconds, lastly, rinse, mouth, times, water, rinse, toothbrush, 3, seconds, return, holder, optional, mouthwash, brushing, teeth, optional, mouthwash, enhance, breath, tooth, health, fill, mouthwash, cup, marked, line, rinse, mouthwash, mouth, 30, seconds, spit, prevents, breath, removes, bacteria, areas, toothbrush, reach]   \n",
       "\n",
       "                                                                                                                                                                                                                                                                                                                                                                                                                                                                                                                                                                                                                                                                                       STEMMING  \n",
       "0                                                                                                                                                                         [toothbrush, put, bit, toothpast, size, pea, let, start, brush, front, teeth, gentli, move, toothbrush, small, circl, front, top, bottom, teeth, brush, make, theyr, nice, clean, time, brush, back, teeth, move, toothbrush, back, mouth, small, circl, make, brush, top, bottom, teeth, back, forget, part, teeth, chew, food, brush, top, teeth, bite, top, bottom, teeth, make, food, bit, final, gentli, brush, tongu, breath, fresh, your, rins, mouth, water, spit, sink, rins, toothbrush, put, back, belong]  \n",
       "1  [rins, toothbrush, 5, second, water, put, peasiz, amount, toothpast, center, toothbrush, bristl, brush, upper, lower, front, teeth, outer, surfac, 30, second, make, bristl, brush, push, teeth, halfway, brush, upper, lower, back, teeth, outer, surfac, 30, second, ensur, back, teeth, reach, make, bristl, brush, push, teeth, halfway, brush, roof, mouth, tongu, 20, second, lastli, rins, mouth, time, water, rins, toothbrush, 3, second, return, holder, option, mouthwash, brush, teeth, option, mouthwash, enhanc, breath, tooth, health, fill, mouthwash, cup, mark, line, rins, mouthwash, mouth, 30, second, spit, prevent, breath, remov, bacteria, area, toothbrush, reach]  "
      ]
     },
     "execution_count": 8,
     "metadata": {},
     "output_type": "execute_result"
    }
   ],
   "source": [
    "ME = '''Rinse your toothbrush for 5 seconds in water and put a pea-sized amount of toothpaste on the center of the toothbrush bristles.\n",
    "Brush the upper and lower front teeth inner and outer surfaces for 30 seconds each. Make sure the bristles of the brush are never pushed against your teeth more than halfway.\n",
    "Brush the upper and lower back teeth inner and outer surfaces for 30 seconds each ensuring the back teeth are reached. Make sure the bristles of the brush are never pushed against your teeth more than halfway.\n",
    "Brush the roof of your mouth and your tongue for 20 seconds each.\n",
    "Lastly, rinse your mouth three times with water. Rinse the toothbrush for 3 seconds and return it to the holder.\n",
    "(Optional) The use of mouthwash after brushing teeth is optional. Mouthwash can be used afterwards to enhance breath and tooth health. Fill the mouthwash cup up to the marked line. Rinse the mouthwash in your mouth for 30 seconds and spit out. This prevents bad breath and removes bacteria from areas where a toothbrush can't reach.'''\n",
    "compare = pd.concat([compare, tf_idf.preprocess_text(ME)], \n",
    "                    ignore_index=True)\n",
    "compare"
   ]
  },
  {
   "cell_type": "code",
   "execution_count": 9,
   "id": "4b7f89e7-4272-472a-8f81-cbb5884207e7",
   "metadata": {},
   "outputs": [
    {
     "data": {
      "text/html": [
       "<div>\n",
       "<style scoped>\n",
       "    .dataframe tbody tr th:only-of-type {\n",
       "        vertical-align: middle;\n",
       "    }\n",
       "\n",
       "    .dataframe tbody tr th {\n",
       "        vertical-align: top;\n",
       "    }\n",
       "\n",
       "    .dataframe thead th {\n",
       "        text-align: right;\n",
       "    }\n",
       "</style>\n",
       "<table border=\"1\" class=\"dataframe\">\n",
       "  <thead>\n",
       "    <tr style=\"text-align: right;\">\n",
       "      <th></th>\n",
       "      <th>DOCUMENT</th>\n",
       "      <th>STEMMING</th>\n",
       "      <th>COSIM</th>\n",
       "    </tr>\n",
       "  </thead>\n",
       "  <tbody>\n",
       "    <tr>\n",
       "      <th>0</th>\n",
       "      <td>First, take your toothbrush and put a little bit of toothpaste on it. About the size of a pea. You don't need too much!\\nNow, let's start brushing the front of your teeth. Gently move your toothbrush in small circles on the front of your top and bottom teeth. Keep brushing for a little while to make sure they're nice and clean.\\nNext, it's time to brush the back of your teeth. Move your toothbrush to the back of your mouth and use the same small circles. Make sure you brush both the top and bottom teeth, getting all the way to the back ones.\\nWe can't forget the parts of our teeth we use to chew food. Brush the tops of your teeth, where you bite down. Do this for both your top and bottom teeth, making sure to get all the food bits out.\\nFinally, gently brush your tongue to keep your breath fresh. When you're done, rinse your mouth with water and spit it out into the sink. Then rinse your toothbrush and put it back where it belongs.</td>\n",
       "      <td>[toothbrush, put, bit, toothpast, size, pea, let, start, brush, front, teeth, gentli, move, toothbrush, small, circl, front, top, bottom, teeth, brush, make, theyr, nice, clean, time, brush, back, teeth, move, toothbrush, back, mouth, small, circl, make, brush, top, bottom, teeth, back, forget, part, teeth, chew, food, brush, top, teeth, bite, top, bottom, teeth, make, food, bit, final, gentli, brush, tongu, breath, fresh, your, rins, mouth, water, spit, sink, rins, toothbrush, put, back, belong]</td>\n",
       "      <td>1.000000</td>\n",
       "    </tr>\n",
       "    <tr>\n",
       "      <th>1</th>\n",
       "      <td>Rinse your toothbrush for 5 seconds in water and put a pea-sized amount of toothpaste on the center of the toothbrush bristles.\\nBrush the upper and lower front teeth inner and outer surfaces for 30 seconds each. Make sure the bristles of the brush are never pushed against your teeth more than halfway.\\nBrush the upper and lower back teeth inner and outer surfaces for 30 seconds each ensuring the back teeth are reached. Make sure the bristles of the brush are never pushed against your teeth more than halfway.\\nBrush the roof of your mouth and your tongue for 20 seconds each.\\nLastly, rinse your mouth three times with water. Rinse the toothbrush for 3 seconds and return it to the holder.\\n(Optional) The use of mouthwash after brushing teeth is optional. Mouthwash can be used afterwards to enhance breath and tooth health. Fill the mouthwash cup up to the marked line. Rinse the mouthwash in your mouth for 30 seconds and spit out. This prevents bad breath and removes bacteria from areas where a toothbrush can't reach.</td>\n",
       "      <td>[rins, toothbrush, 5, second, water, put, peasiz, amount, toothpast, center, toothbrush, bristl, brush, upper, lower, front, teeth, outer, surfac, 30, second, make, bristl, brush, push, teeth, halfway, brush, upper, lower, back, teeth, outer, surfac, 30, second, ensur, back, teeth, reach, make, bristl, brush, push, teeth, halfway, brush, roof, mouth, tongu, 20, second, lastli, rins, mouth, time, water, rins, toothbrush, 3, second, return, holder, option, mouthwash, brush, teeth, option, mouthwash, enhanc, breath, tooth, health, fill, mouthwash, cup, mark, line, rins, mouthwash, mouth, 30, second, spit, prevent, breath, remov, bacteria, area, toothbrush, reach]</td>\n",
       "      <td>0.415671</td>\n",
       "    </tr>\n",
       "  </tbody>\n",
       "</table>\n",
       "</div>"
      ],
      "text/plain": [
       "                                                                                                                                                                                                                                                                                                                                                                                                                                                                                                                                                                                                                                                                                                                                                                                                                                                                                                                                                                                                                                                                DOCUMENT  \\\n",
       "0                                                                                      First, take your toothbrush and put a little bit of toothpaste on it. About the size of a pea. You don't need too much!\\nNow, let's start brushing the front of your teeth. Gently move your toothbrush in small circles on the front of your top and bottom teeth. Keep brushing for a little while to make sure they're nice and clean.\\nNext, it's time to brush the back of your teeth. Move your toothbrush to the back of your mouth and use the same small circles. Make sure you brush both the top and bottom teeth, getting all the way to the back ones.\\nWe can't forget the parts of our teeth we use to chew food. Brush the tops of your teeth, where you bite down. Do this for both your top and bottom teeth, making sure to get all the food bits out.\\nFinally, gently brush your tongue to keep your breath fresh. When you're done, rinse your mouth with water and spit it out into the sink. Then rinse your toothbrush and put it back where it belongs.   \n",
       "1  Rinse your toothbrush for 5 seconds in water and put a pea-sized amount of toothpaste on the center of the toothbrush bristles.\\nBrush the upper and lower front teeth inner and outer surfaces for 30 seconds each. Make sure the bristles of the brush are never pushed against your teeth more than halfway.\\nBrush the upper and lower back teeth inner and outer surfaces for 30 seconds each ensuring the back teeth are reached. Make sure the bristles of the brush are never pushed against your teeth more than halfway.\\nBrush the roof of your mouth and your tongue for 20 seconds each.\\nLastly, rinse your mouth three times with water. Rinse the toothbrush for 3 seconds and return it to the holder.\\n(Optional) The use of mouthwash after brushing teeth is optional. Mouthwash can be used afterwards to enhance breath and tooth health. Fill the mouthwash cup up to the marked line. Rinse the mouthwash in your mouth for 30 seconds and spit out. This prevents bad breath and removes bacteria from areas where a toothbrush can't reach.   \n",
       "\n",
       "                                                                                                                                                                                                                                                                                                                                                                                                                                                                                                                                                                                                                                                                                       STEMMING  \\\n",
       "0                                                                                                                                                                         [toothbrush, put, bit, toothpast, size, pea, let, start, brush, front, teeth, gentli, move, toothbrush, small, circl, front, top, bottom, teeth, brush, make, theyr, nice, clean, time, brush, back, teeth, move, toothbrush, back, mouth, small, circl, make, brush, top, bottom, teeth, back, forget, part, teeth, chew, food, brush, top, teeth, bite, top, bottom, teeth, make, food, bit, final, gentli, brush, tongu, breath, fresh, your, rins, mouth, water, spit, sink, rins, toothbrush, put, back, belong]   \n",
       "1  [rins, toothbrush, 5, second, water, put, peasiz, amount, toothpast, center, toothbrush, bristl, brush, upper, lower, front, teeth, outer, surfac, 30, second, make, bristl, brush, push, teeth, halfway, brush, upper, lower, back, teeth, outer, surfac, 30, second, ensur, back, teeth, reach, make, bristl, brush, push, teeth, halfway, brush, roof, mouth, tongu, 20, second, lastli, rins, mouth, time, water, rins, toothbrush, 3, second, return, holder, option, mouthwash, brush, teeth, option, mouthwash, enhanc, breath, tooth, health, fill, mouthwash, cup, mark, line, rins, mouthwash, mouth, 30, second, spit, prevent, breath, remov, bacteria, area, toothbrush, reach]   \n",
       "\n",
       "      COSIM  \n",
       "0  1.000000  \n",
       "1  0.415671  "
      ]
     },
     "execution_count": 9,
     "metadata": {},
     "output_type": "execute_result"
    }
   ],
   "source": [
    "tf_idf.cosineSimilarity(compare)"
   ]
  },
  {
   "cell_type": "markdown",
   "id": "ae05fa80",
   "metadata": {},
   "source": [
    "## Document analysis\n",
    "\n",
    "- Make a list of all the improvements and changes you made to document\n",
    "- use the `tf_idf.cosineSimilarity` function to compare the AI version to your own\n",
    "\n",
    "Write a report on your intellectual property  in the 'revised document'. \n",
    "- How much can you claim as yours?\n",
    "- How many ideas came from AI?\n",
    "- How many ideas came from you?\n",
    "- Is this a _new_ document?\n",
    "- If this work was made by you and another person-not AI-would you need to credit this person as a coauthor?\n",
    "- What else can you discuss about this comparison and this process?\n",
    "\n",
    "The cosine similarity score was 41.57% so with the edited changed the document is mine. The cutoff for cosine similarity in this situation is 45%. This is the benchmark to determine if the AI or I contibuted more to the document. The revised document is considerably different. In each step, I added my own background and experience to enhance the instructions to make it clear and concise. Additionally, I added an extra step to use mouthwash to enhance tooth health if deemed necessary. Therefore, 6 ideas were added by me. The document is heavily edited so it is a new document. I would credit another person as a coauthor. A general idea was provided and built upon. This person would deserve a coauthor credit. The AI document and revised document differed greatly. This process proved as an example of how an AI written document differs to a document written by an engineer."
   ]
  },
  {
   "cell_type": "code",
   "execution_count": null,
   "id": "0fff6a38",
   "metadata": {},
   "outputs": [],
   "source": []
  }
 ],
 "metadata": {
  "jupytext": {
   "formats": "md:myst,ipynb"
  },
  "kernelspec": {
   "display_name": "Python 3 (ipykernel)",
   "language": "python",
   "name": "python3"
  },
  "language_info": {
   "codemirror_mode": {
    "name": "ipython",
    "version": 3
   },
   "file_extension": ".py",
   "mimetype": "text/x-python",
   "name": "python",
   "nbconvert_exporter": "python",
   "pygments_lexer": "ipython3",
   "version": "3.9.6"
  }
 },
 "nbformat": 4,
 "nbformat_minor": 5
}
